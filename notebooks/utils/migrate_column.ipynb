{
 "cells": [
  {
   "cell_type": "code",
   "execution_count": 59,
   "metadata": {},
   "outputs": [],
   "source": [
    "from pathlib import Path \n",
    "\n",
    "import pandas as pd"
   ]
  },
  {
   "cell_type": "code",
   "execution_count": null,
   "metadata": {},
   "outputs": [],
   "source": [
    "BASE = Path('../..')\n",
    "\n",
    "# Copies from here\n",
    "FROM_INPUT = BASE / 'data' / 'ema_rwd' / 'ema_rwd_patched_manual_gpt_v4' '.xlsx'\n",
    "\n",
    "# To here without override\n",
    "TO_INPUT = BASE / 'data' / 'ema_rwd' / 'ema_rwd_p_m_gpt' '.xlsx'\n",
    "\n",
    "# And saves here\n",
    "OUTPUT = BASE / 'data' / 'ema_rwd' / 'ema_rwd_p_m_gpt_test' '.xlsx'\n",
    "\n",
    "# Index column\n",
    "INDEX_COL = 'Eu Pas Register Number'\n",
    "\n",
    "# Column(s) to be copied\n",
    "COPY_COLS = ['$CANCELLED_MANUAL_details']\n",
    "INSERT_RIGHT_TO_COL = '$CANCELLED_MANUAL'"
   ]
  },
  {
   "cell_type": "code",
   "execution_count": 61,
   "metadata": {},
   "outputs": [],
   "source": [
    "from_df = pd.read_excel(FROM_INPUT, index_col=0).set_index(INDEX_COL)\n",
    "to_df = pd.read_excel(TO_INPUT, index_col=0).set_index(INDEX_COL)"
   ]
  },
  {
   "cell_type": "code",
   "execution_count": 62,
   "metadata": {},
   "outputs": [
    {
     "data": {
      "text/plain": [
       "$CANCELLED_MANUAL_details\n",
       "based on description         58\n",
       "based on documents            2\n",
       "Name: count, dtype: int64"
      ]
     },
     "execution_count": 62,
     "metadata": {},
     "output_type": "execute_result"
    }
   ],
   "source": [
    "from_df[COPY_COLS].value_counts()"
   ]
  },
  {
   "cell_type": "code",
   "execution_count": 63,
   "metadata": {},
   "outputs": [],
   "source": [
    "order = None\n",
    "if INSERT_RIGHT_TO_COL:\n",
    "    to_df_cols = to_df.columns.to_list()\n",
    "    index = to_df_cols.index(INSERT_RIGHT_TO_COL) + 1\n",
    "    order = to_df_cols[:index] + COPY_COLS + to_df_cols[index:]\n",
    "    assert len(order) == len(to_df.columns) + len(COPY_COLS)\n"
   ]
  },
  {
   "cell_type": "code",
   "execution_count": 64,
   "metadata": {},
   "outputs": [
    {
     "data": {
      "text/plain": [
       "$CANCELLED_MANUAL_details\n",
       "based on description         58\n",
       "based on documents            2\n",
       "Name: count, dtype: int64"
      ]
     },
     "execution_count": 64,
     "metadata": {},
     "output_type": "execute_result"
    }
   ],
   "source": [
    "to_df = to_df.merge(from_df[COPY_COLS], left_index=True, right_index=True)\n",
    "\n",
    "if order:\n",
    "    to_df = to_df[order]\n",
    "\n",
    "to_df[COPY_COLS].value_counts()"
   ]
  },
  {
   "cell_type": "code",
   "execution_count": 65,
   "metadata": {},
   "outputs": [],
   "source": [
    "to_df.reset_index(names=INDEX_COL).to_excel(OUTPUT, sheet_name='PAS')"
   ]
  },
  {
   "cell_type": "code",
   "execution_count": null,
   "metadata": {},
   "outputs": [],
   "source": []
  }
 ],
 "metadata": {
  "kernelspec": {
   "display_name": "eupas",
   "language": "python",
   "name": "python3"
  },
  "language_info": {
   "codemirror_mode": {
    "name": "ipython",
    "version": 3
   },
   "file_extension": ".py",
   "mimetype": "text/x-python",
   "name": "python",
   "nbconvert_exporter": "python",
   "pygments_lexer": "ipython3",
   "version": "3.11.6"
  }
 },
 "nbformat": 4,
 "nbformat_minor": 2
}
