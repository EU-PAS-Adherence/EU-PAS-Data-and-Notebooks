{
 "cells": [
  {
   "cell_type": "markdown",
   "metadata": {},
   "source": [
    "# Analysing variables\n",
    "\n",
    "This notebook was used to analyse:\n",
    "\n",
    "1. `requested_by_regulator` stratified by `risk_managment_plan` and `has_protocol` for all studies requested by a regulator.</br>\n",
    "<small>\n",
    "**NOTE:** We found that there are studies with RMP \"Not applicable\" or \"Unspecified\", but stil requested by a regulator\n",
    "+ We don't now how and in which way this is possible or whether it was an error\n",
    "+ The lack of documentation makes this unclear\n",
    "+ Nevertheless this variable will be used in the logistic regression modules, because of the use in previous works\n",
    "</small>\n",
    "2. Median (IQR) time since protocol and final report due\n",
    "3. Creating `funding_sources_grouped_override` to override `funding_sources_grouped`, where manual mapping is needed"
   ]
  },
  {
   "cell_type": "markdown",
   "metadata": {},
   "source": [
    "Import needed libraries and data:"
   ]
  },
  {
   "cell_type": "code",
   "execution_count": 1,
   "metadata": {},
   "outputs": [],
   "source": [
    "import pandas as pd\n",
    "\n",
    "from itertools import chain\n",
    "\n",
    "na_values = [\n",
    "    \"\", \"#N/A\", \"#N/A N/A\", \"#NA\", \"-1.#IND\", \"-1.#QNAN\", \"-NaN\", \"-nan\", \n",
    "    \"1.#IND\", \"1.#QNAN\", \"<NA>\", \"NULL\", \"NaN\", \"None\", \"nan\", \"null\"\n",
    "    # \"N/A\",\n",
    "    # \"NA\",\n",
    "    # \"n/a\",\n",
    "]\n",
    "\n",
    "def python_name_converter(x):\n",
    "    return '_'.join([word.lower() for word in x.split(' ')]) if x[0] != '$' else x"
   ]
  },
  {
   "cell_type": "code",
   "execution_count": 2,
   "metadata": {},
   "outputs": [],
   "source": [
    "all_included, due_protocol, due_results = pd.read_excel(\n",
    "    '../../output/ema_rwd/ema_rwd_final_statistics_variables.xlsx',\n",
    "    index_col=0,\n",
    "    sheet_name=None,\n",
    "    keep_default_na=False,\n",
    "    na_values=na_values,\n",
    "    na_filter=True\n",
    ").values()"
   ]
  },
  {
   "cell_type": "markdown",
   "metadata": {},
   "source": [
    "## `requested_by_regulator`"
   ]
  },
  {
   "cell_type": "markdown",
   "metadata": {},
   "source": [
    "Checking `requested_by_regulator` value counts for studies with RMP:\n",
    "```python \n",
    "\"Not applicable\"\n",
    "```"
   ]
  },
  {
   "cell_type": "code",
   "execution_count": 3,
   "metadata": {},
   "outputs": [
    {
     "data": {
      "text/html": [
       "<div>\n",
       "<style scoped>\n",
       "    .dataframe tbody tr th:only-of-type {\n",
       "        vertical-align: middle;\n",
       "    }\n",
       "\n",
       "    .dataframe tbody tr th {\n",
       "        vertical-align: top;\n",
       "    }\n",
       "\n",
       "    .dataframe thead th {\n",
       "        text-align: right;\n",
       "    }\n",
       "</style>\n",
       "<table border=\"1\" class=\"dataframe\">\n",
       "  <thead>\n",
       "    <tr style=\"text-align: right;\">\n",
       "      <th></th>\n",
       "      <th>count</th>\n",
       "      <th>proportion</th>\n",
       "    </tr>\n",
       "    <tr>\n",
       "      <th>requested_by_regulator</th>\n",
       "      <th></th>\n",
       "      <th></th>\n",
       "    </tr>\n",
       "  </thead>\n",
       "  <tbody>\n",
       "    <tr>\n",
       "      <th>0.0</th>\n",
       "      <td>1220</td>\n",
       "      <td>78.7</td>\n",
       "    </tr>\n",
       "    <tr>\n",
       "      <th>1.0</th>\n",
       "      <td>305</td>\n",
       "      <td>19.7</td>\n",
       "    </tr>\n",
       "    <tr>\n",
       "      <th>NaN</th>\n",
       "      <td>25</td>\n",
       "      <td>1.6</td>\n",
       "    </tr>\n",
       "  </tbody>\n",
       "</table>\n",
       "</div>"
      ],
      "text/plain": [
       "                        count  proportion\n",
       "requested_by_regulator                   \n",
       "0.0                      1220        78.7\n",
       "1.0                       305        19.7\n",
       "NaN                        25         1.6"
      ]
     },
     "execution_count": 3,
     "metadata": {},
     "output_type": "execute_result"
    }
   ],
   "source": [
    "pd.merge(\n",
    "    all_included[all_included['risk_management_plan'].eq('Not applicable')]['requested_by_regulator'].value_counts(dropna=False),\n",
    "    (all_included[all_included['risk_management_plan'].eq('Not applicable')]['requested_by_regulator'].value_counts(normalize=True, dropna=False) * 100).round(1),\n",
    "    left_index=True, right_index=True\n",
    ")"
   ]
  },
  {
   "cell_type": "markdown",
   "metadata": {},
   "source": [
    "Unspecified (`pd.NA`)"
   ]
  },
  {
   "cell_type": "code",
   "execution_count": 4,
   "metadata": {},
   "outputs": [
    {
     "data": {
      "text/html": [
       "<div>\n",
       "<style scoped>\n",
       "    .dataframe tbody tr th:only-of-type {\n",
       "        vertical-align: middle;\n",
       "    }\n",
       "\n",
       "    .dataframe tbody tr th {\n",
       "        vertical-align: top;\n",
       "    }\n",
       "\n",
       "    .dataframe thead th {\n",
       "        text-align: right;\n",
       "    }\n",
       "</style>\n",
       "<table border=\"1\" class=\"dataframe\">\n",
       "  <thead>\n",
       "    <tr style=\"text-align: right;\">\n",
       "      <th></th>\n",
       "      <th>count</th>\n",
       "      <th>proportion</th>\n",
       "    </tr>\n",
       "    <tr>\n",
       "      <th>requested_by_regulator</th>\n",
       "      <th></th>\n",
       "      <th></th>\n",
       "    </tr>\n",
       "  </thead>\n",
       "  <tbody>\n",
       "    <tr>\n",
       "      <th>0.0</th>\n",
       "      <td>114</td>\n",
       "      <td>86.4</td>\n",
       "    </tr>\n",
       "    <tr>\n",
       "      <th>1.0</th>\n",
       "      <td>15</td>\n",
       "      <td>11.4</td>\n",
       "    </tr>\n",
       "    <tr>\n",
       "      <th>NaN</th>\n",
       "      <td>3</td>\n",
       "      <td>2.3</td>\n",
       "    </tr>\n",
       "  </tbody>\n",
       "</table>\n",
       "</div>"
      ],
      "text/plain": [
       "                        count  proportion\n",
       "requested_by_regulator                   \n",
       "0.0                       114        86.4\n",
       "1.0                        15        11.4\n",
       "NaN                         3         2.3"
      ]
     },
     "execution_count": 4,
     "metadata": {},
     "output_type": "execute_result"
    }
   ],
   "source": [
    "pd.merge(\n",
    "    all_included[all_included['risk_management_plan'].isna()]['requested_by_regulator'].value_counts(dropna=False),\n",
    "    (all_included[all_included['risk_management_plan'].isna()]['requested_by_regulator'].value_counts(normalize=True, dropna=False) * 100).round(1),\n",
    "    left_index=True, right_index=True\n",
    ")"
   ]
  },
  {
   "cell_type": "markdown",
   "metadata": {},
   "source": [
    "`has_protocol` for all studies requested by a regulator"
   ]
  },
  {
   "cell_type": "code",
   "execution_count": 5,
   "metadata": {},
   "outputs": [
    {
     "data": {
      "text/html": [
       "<div>\n",
       "<style scoped>\n",
       "    .dataframe tbody tr th:only-of-type {\n",
       "        vertical-align: middle;\n",
       "    }\n",
       "\n",
       "    .dataframe tbody tr th {\n",
       "        vertical-align: top;\n",
       "    }\n",
       "\n",
       "    .dataframe thead th {\n",
       "        text-align: right;\n",
       "    }\n",
       "</style>\n",
       "<table border=\"1\" class=\"dataframe\">\n",
       "  <thead>\n",
       "    <tr style=\"text-align: right;\">\n",
       "      <th></th>\n",
       "      <th>count</th>\n",
       "      <th>proportion</th>\n",
       "    </tr>\n",
       "    <tr>\n",
       "      <th>has_protocol</th>\n",
       "      <th></th>\n",
       "      <th></th>\n",
       "    </tr>\n",
       "  </thead>\n",
       "  <tbody>\n",
       "    <tr>\n",
       "      <th>True</th>\n",
       "      <td>703.0</td>\n",
       "      <td>60.9</td>\n",
       "    </tr>\n",
       "    <tr>\n",
       "      <th>False</th>\n",
       "      <td>452.0</td>\n",
       "      <td>39.1</td>\n",
       "    </tr>\n",
       "    <tr>\n",
       "      <th>All</th>\n",
       "      <td>1155.0</td>\n",
       "      <td>100.0</td>\n",
       "    </tr>\n",
       "  </tbody>\n",
       "</table>\n",
       "</div>"
      ],
      "text/plain": [
       "               count  proportion\n",
       "has_protocol                    \n",
       "True           703.0        60.9\n",
       "False          452.0        39.1\n",
       "All           1155.0       100.0"
      ]
     },
     "execution_count": 5,
     "metadata": {},
     "output_type": "execute_result"
    }
   ],
   "source": [
    "tmp = pd.merge(\n",
    "    all_included[all_included['requested_by_regulator'].eq(1)]['has_protocol'].value_counts(dropna=False),\n",
    "    (all_included[all_included['requested_by_regulator'].eq(1)]['has_protocol'].value_counts(normalize=True, dropna=False) * 100).round(1),\n",
    "    left_index=True, right_index=True\n",
    ")\n",
    "\n",
    "pd.concat([\n",
    "    tmp,\n",
    "    tmp.sum().rename('All').to_frame().T.rename_axis('has_protocol', axis='index')\n",
    "], axis='index')\n"
   ]
  },
  {
   "cell_type": "markdown",
   "metadata": {},
   "source": [
    "## Median (IQR) time since protocol and final report due"
   ]
  },
  {
   "cell_type": "code",
   "execution_count": 6,
   "metadata": {},
   "outputs": [
    {
     "data": {
      "text/plain": [
       "array([ 0. ,  3.6,  6.6,  9.2, 30.1])"
      ]
     },
     "metadata": {},
     "output_type": "display_data"
    },
    {
     "data": {
      "text/plain": [
       "'Median (IQR) time since protocol due: 6.6 (3.6 - 9.2)'"
      ]
     },
     "metadata": {},
     "output_type": "display_data"
    }
   ],
   "source": [
    "_, bins = pd.qcut(\n",
    "    due_protocol['data_collection_days_difference'], \n",
    "    q=[0, .25, .5, .75, 1.],\n",
    "    retbins=True\n",
    ")\n",
    "\n",
    "result = (bins / 365.25).round(1)\n",
    "\n",
    "display(\n",
    "    result,\n",
    "    f'Median (IQR) time since protocol due: {result[2]} ({result[1]} - {result[3]})'\n",
    ")"
   ]
  },
  {
   "cell_type": "code",
   "execution_count": 7,
   "metadata": {},
   "outputs": [
    {
     "data": {
      "text/plain": [
       "array([ 0.5,  4.9,  7.5,  9.9, 27.1])"
      ]
     },
     "metadata": {},
     "output_type": "display_data"
    },
    {
     "data": {
      "text/plain": [
       "'Median (IQR) time since protocol due: 7.5 (4.9 - 9.9)'"
      ]
     },
     "metadata": {},
     "output_type": "display_data"
    }
   ],
   "source": [
    "_, bins = pd.qcut(\n",
    "    due_results['data_collection_days_difference'], \n",
    "    q=[0, .25, .5, .75, 1.],\n",
    "    retbins=True\n",
    ")\n",
    "\n",
    "result = (bins / 365.25).round(1)\n",
    "\n",
    "display(\n",
    "    result,\n",
    "    f'Median (IQR) time since protocol due: {result[2]} ({result[1]} - {result[3]})'\n",
    ")"
   ]
  },
  {
   "cell_type": "markdown",
   "metadata": {},
   "source": [
    "## Creating `funding_sources_grouped_override`"
   ]
  },
  {
   "cell_type": "markdown",
   "metadata": {},
   "source": [
    "First we will define the values, which will need manual mapping"
   ]
  },
  {
   "cell_type": "code",
   "execution_count": 8,
   "metadata": {},
   "outputs": [],
   "source": [
    "filter_values = [\n",
    "    # 'EMA', # non-commercial \n",
    "    'EMA; Other', # mixed or non-commercial\n",
    "    # 'EU institutional research programme', # non-commercial\n",
    "    # 'EU institutional research programme; Non for-profit organisation (e.g. charity); Other; Pharmaceutical company and other private sector\\xa0', # mixed\n",
    "    'EU institutional research programme; Other', # mixed or non-commercial\n",
    "    # 'EU institutional research programme; Pharmaceutical company and other private sector\\xa0', # mixed\n",
    "    # 'No external funding', # no funding\n",
    "    # 'Non for-profit organisation (e.g. charity)', # non-commercial \n",
    "    'Non for-profit organisation (e.g. charity); Other', # mixed or non-commercial\n",
    "    # 'Non for-profit organisation (e.g. charity); Other; Pharmaceutical company and other private sector\\xa0', # mixed\n",
    "    # 'Non for-profit organisation (e.g. charity); Pharmaceutical company and other private sector\\xa0', # mixed\n",
    "    'Other', # mixed or commercial or non-commercial\n",
    "    'Other; Pharmaceutical company and other private sector\\xa0', # mixed or commercial\n",
    "    # 'Pharmaceutical company and other private sector\\xa0' # commercial\n",
    "]"
   ]
  },
  {
   "cell_type": "markdown",
   "metadata": {},
   "source": [
    "We can now use `funding_details` to determine the sponsor class manually. We have already unified / cleaned the values in `funding_details` in `$MATCHED` and will use these values to reduce the mapping efforts. "
   ]
  },
  {
   "cell_type": "code",
   "execution_count": 9,
   "metadata": {},
   "outputs": [
    {
     "name": "stdout",
     "output_type": "stream",
     "text": [
      "All studies with unclear funding_sources\n",
      "Number of entries: 500\n",
      "Number of unique sponsors: 296\n",
      "Due studies with unclear funding_sources\n",
      "Number of entries: 372\n",
      "Number of unique sponsors: 244\n"
     ]
    }
   ],
   "source": [
    "sponsor_classification = pd.read_excel(\n",
    "    '../../output/ema_rwd/ema_rwd_final.xlsx', \n",
    "    index_col=0, \n",
    "    keep_default_na=False,\n",
    "    na_values=na_values,\n",
    "    na_filter=True\n",
    ").rename(\n",
    "    columns=python_name_converter\n",
    ").set_index(\"eu_pas_register_number\")[\n",
    "    [\"funding_sources\", \"funding_details\", \"$MATCHED\", \"$CANCELLED_MANUAL\"]\n",
    "]\n",
    "\n",
    "# display(sorted(sponsor_classification[\"funding_sources\"].dropna().unique()))\n",
    "\n",
    "sponsor_classification = sponsor_classification[~sponsor_classification[\"$CANCELLED_MANUAL\"].fillna(0).astype(bool)].drop(\"$CANCELLED_MANUAL\", axis='columns')\n",
    "sponsor_classification = sponsor_classification[sponsor_classification[\"funding_sources\"].isin(filter_values)]\n",
    "\n",
    "print(\n",
    "    'All studies with unclear funding_sources\\nNumber of entries: ' +\n",
    "    str(len(sponsor_classification)) +\n",
    "    '\\nNumber of unique sponsors: ' +\n",
    "    str(len(sorted(set(chain.from_iterable(\n",
    "        sponsor_classification['$MATCHED'].str.split(\"; \").dropna().values\n",
    "    )))))\n",
    ")\n",
    "\n",
    "sponsor_classification = sponsor_classification.merge(all_included[['due_protocol', 'due_result']].any(axis='columns').rename('due'), left_index=True, right_index=True, how='left')\n",
    "\n",
    "sponsor_classification = sponsor_classification[sponsor_classification['due']].drop(\"due\", axis='columns')\n",
    "\n",
    "print(\n",
    "    'Due studies with unclear funding_sources\\nNumber of entries: ' +\n",
    "    str(len(sponsor_classification)) +\n",
    "    '\\nNumber of unique sponsors: ' +\n",
    "    str(len(sorted(set(chain.from_iterable(\n",
    "        sponsor_classification['$MATCHED'].str.split(\"; \").dropna().values\n",
    "    )))))\n",
    ")"
   ]
  },
  {
   "cell_type": "code",
   "execution_count": 10,
   "metadata": {},
   "outputs": [
    {
     "data": {
      "text/plain": [
       "(244, 2)"
      ]
     },
     "execution_count": 10,
     "metadata": {},
     "output_type": "execute_result"
    }
   ],
   "source": [
    "mapping_output = pd.Series(\n",
    "    sorted(set(chain.from_iterable(\n",
    "        sponsor_classification['$MATCHED'].str.split(\"; \").dropna().values\n",
    "    ))), \n",
    "    name='manual'\n",
    ").to_frame().assign(category=pd.NA)\n",
    "mapping_output.shape"
   ]
  },
  {
   "cell_type": "code",
   "execution_count": 11,
   "metadata": {},
   "outputs": [],
   "source": [
    "mapping_output.to_excel('./sponsor_classification.xlsx', index=False)"
   ]
  },
  {
   "cell_type": "markdown",
   "metadata": {},
   "source": [
    "We will now import the mapping file after manual classification."
   ]
  },
  {
   "cell_type": "code",
   "execution_count": 15,
   "metadata": {},
   "outputs": [
    {
     "name": "stderr",
     "output_type": "stream",
     "text": [
      "/Users/pedRam/miniconda3/envs/eupas/lib/python3.11/site-packages/openpyxl/worksheet/_reader.py:329: UserWarning: Data Validation extension is not supported and will be removed\n",
      "  warn(msg)\n"
     ]
    },
    {
     "data": {
      "text/html": [
       "<div>\n",
       "<style scoped>\n",
       "    .dataframe tbody tr th:only-of-type {\n",
       "        vertical-align: middle;\n",
       "    }\n",
       "\n",
       "    .dataframe tbody tr th {\n",
       "        vertical-align: top;\n",
       "    }\n",
       "\n",
       "    .dataframe thead th {\n",
       "        text-align: right;\n",
       "    }\n",
       "</style>\n",
       "<table border=\"1\" class=\"dataframe\">\n",
       "  <thead>\n",
       "    <tr style=\"text-align: right;\">\n",
       "      <th></th>\n",
       "      <th>category</th>\n",
       "    </tr>\n",
       "    <tr>\n",
       "      <th>manual</th>\n",
       "      <th></th>\n",
       "    </tr>\n",
       "  </thead>\n",
       "  <tbody>\n",
       "    <tr>\n",
       "      <th>$NoFunding</th>\n",
       "      <td>No Funding</td>\n",
       "    </tr>\n",
       "    <tr>\n",
       "      <th>$NotFound/UnclearValue</th>\n",
       "      <td>Unclear</td>\n",
       "    </tr>\n",
       "    <tr>\n",
       "      <th>Aarhus University (AU)</th>\n",
       "      <td>Non-Commercial</td>\n",
       "    </tr>\n",
       "    <tr>\n",
       "      <th>Aarne Koskelo Foundation</th>\n",
       "      <td>Non-Commercial</td>\n",
       "    </tr>\n",
       "    <tr>\n",
       "      <th>AbbVie</th>\n",
       "      <td>Commercial</td>\n",
       "    </tr>\n",
       "    <tr>\n",
       "      <th>...</th>\n",
       "      <td>...</td>\n",
       "    </tr>\n",
       "    <tr>\n",
       "      <th>University of Auckland</th>\n",
       "      <td>Non-Commercial</td>\n",
       "    </tr>\n",
       "    <tr>\n",
       "      <th>University of Bristol</th>\n",
       "      <td>Non-Commercial</td>\n",
       "    </tr>\n",
       "    <tr>\n",
       "      <th>Universitätsklinikum Erlangen</th>\n",
       "      <td>Non-Commercial</td>\n",
       "    </tr>\n",
       "    <tr>\n",
       "      <th>ViiV Healthcare</th>\n",
       "      <td>Commercial</td>\n",
       "    </tr>\n",
       "    <tr>\n",
       "      <th>ÚJV Řež</th>\n",
       "      <td>Commercial</td>\n",
       "    </tr>\n",
       "  </tbody>\n",
       "</table>\n",
       "<p>244 rows × 1 columns</p>\n",
       "</div>"
      ],
      "text/plain": [
       "                                     category\n",
       "manual                                       \n",
       "$NoFunding                         No Funding\n",
       "$NotFound/UnclearValue                Unclear\n",
       "Aarhus University (AU)         Non-Commercial\n",
       "Aarne Koskelo Foundation       Non-Commercial\n",
       "AbbVie                             Commercial\n",
       "...                                       ...\n",
       "University of Auckland         Non-Commercial\n",
       "University of Bristol          Non-Commercial\n",
       "Universitätsklinikum Erlangen  Non-Commercial\n",
       "ViiV Healthcare                    Commercial\n",
       "ÚJV Řež                            Commercial\n",
       "\n",
       "[244 rows x 1 columns]"
      ]
     },
     "execution_count": 15,
     "metadata": {},
     "output_type": "execute_result"
    }
   ],
   "source": [
    "mapping_input = pd.read_excel('./sponsor_classification_manual.xlsx', index_col=0)\n",
    "mapping_input"
   ]
  },
  {
   "cell_type": "markdown",
   "metadata": {},
   "source": [
    "Check completeness of mapping file after manual classification."
   ]
  },
  {
   "cell_type": "code",
   "execution_count": 16,
   "metadata": {},
   "outputs": [
    {
     "data": {
      "text/plain": [
       "Index([], dtype='object', name='manual')"
      ]
     },
     "execution_count": 16,
     "metadata": {},
     "output_type": "execute_result"
    }
   ],
   "source": [
    "mapping_input.index.difference(mapping_output.set_index('manual').index)"
   ]
  },
  {
   "cell_type": "code",
   "execution_count": 17,
   "metadata": {},
   "outputs": [
    {
     "data": {
      "text/plain": [
       "Index([], dtype='object', name='manual')"
      ]
     },
     "execution_count": 17,
     "metadata": {},
     "output_type": "execute_result"
    }
   ],
   "source": [
    "mapping_output.set_index('manual').index.difference(mapping_input.index)"
   ]
  },
  {
   "cell_type": "markdown",
   "metadata": {},
   "source": [
    "Map sponsor classifications back to `eu_pas_register_number` (first with duplicates, which will be removed by aggregation):"
   ]
  },
  {
   "cell_type": "code",
   "execution_count": 18,
   "metadata": {},
   "outputs": [],
   "source": [
    "sponsor_classification_manual = pd.merge(\n",
    "    sponsor_classification[\"$MATCHED\"].str.split('; ').explode(),\n",
    "    mapping_input,\n",
    "    how='left',\n",
    "    left_on='$MATCHED',\n",
    "    right_index=True,\n",
    "    validate='many_to_one'\n",
    ")"
   ]
  },
  {
   "cell_type": "markdown",
   "metadata": {},
   "source": [
    "We will convert all `pd.NA` values into `No Funding`."
   ]
  },
  {
   "cell_type": "code",
   "execution_count": 19,
   "metadata": {},
   "outputs": [
    {
     "data": {
      "text/html": [
       "<div>\n",
       "<style scoped>\n",
       "    .dataframe tbody tr th:only-of-type {\n",
       "        vertical-align: middle;\n",
       "    }\n",
       "\n",
       "    .dataframe tbody tr th {\n",
       "        vertical-align: top;\n",
       "    }\n",
       "\n",
       "    .dataframe thead th {\n",
       "        text-align: right;\n",
       "    }\n",
       "</style>\n",
       "<table border=\"1\" class=\"dataframe\">\n",
       "  <thead>\n",
       "    <tr style=\"text-align: right;\">\n",
       "      <th></th>\n",
       "      <th>$MATCHED</th>\n",
       "      <th>category</th>\n",
       "    </tr>\n",
       "    <tr>\n",
       "      <th>eu_pas_register_number</th>\n",
       "      <th></th>\n",
       "      <th></th>\n",
       "    </tr>\n",
       "  </thead>\n",
       "  <tbody>\n",
       "  </tbody>\n",
       "</table>\n",
       "</div>"
      ],
      "text/plain": [
       "Empty DataFrame\n",
       "Columns: [$MATCHED, category]\n",
       "Index: []"
      ]
     },
     "execution_count": 19,
     "metadata": {},
     "output_type": "execute_result"
    }
   ],
   "source": [
    "sponsor_classification_manual[sponsor_classification_manual['category'].isna()]"
   ]
  },
  {
   "cell_type": "code",
   "execution_count": 20,
   "metadata": {},
   "outputs": [],
   "source": [
    "sponsor_classification_manual.loc[sponsor_classification_manual['category'].isna(), 'category'] = 'No Funding'"
   ]
  },
  {
   "cell_type": "code",
   "execution_count": 22,
   "metadata": {},
   "outputs": [
    {
     "data": {
      "text/plain": [
       "category\n",
       "Non-Commercial    315\n",
       "Commercial        163\n",
       "Unclear            64\n",
       "No Funding         21\n",
       "Name: count, dtype: int64"
      ]
     },
     "execution_count": 22,
     "metadata": {},
     "output_type": "execute_result"
    }
   ],
   "source": [
    "sponsor_classification_manual['category'].value_counts()"
   ]
  },
  {
   "cell_type": "markdown",
   "metadata": {},
   "source": [
    "We can now map back from `$MATCHED` to `funding_details` and aggregate the categories with the help of `agg_sponsor_category`:"
   ]
  },
  {
   "cell_type": "code",
   "execution_count": 23,
   "metadata": {},
   "outputs": [],
   "source": [
    "def agg_sponsor_category(series: pd.Series):\n",
    "    uniques = set(series)\n",
    "    if len(uniques) == 0:\n",
    "        raise ValueError('There should not be an empty entry')\n",
    "    elif len(uniques) == 1:\n",
    "        return uniques.pop()\n",
    "    \n",
    "    uniques = set(series) - frozenset(['No Funding', 'Unclear'])\n",
    "    if len(uniques) == 0:\n",
    "        return 'No Funding'\n",
    "    elif len(uniques) == 1:\n",
    "        return uniques.pop()\n",
    "    else:\n",
    "        return 'Mixed'"
   ]
  },
  {
   "cell_type": "code",
   "execution_count": 24,
   "metadata": {},
   "outputs": [
    {
     "data": {
      "text/html": [
       "<div>\n",
       "<style scoped>\n",
       "    .dataframe tbody tr th:only-of-type {\n",
       "        vertical-align: middle;\n",
       "    }\n",
       "\n",
       "    .dataframe tbody tr th {\n",
       "        vertical-align: top;\n",
       "    }\n",
       "\n",
       "    .dataframe thead th {\n",
       "        text-align: right;\n",
       "    }\n",
       "</style>\n",
       "<table border=\"1\" class=\"dataframe\">\n",
       "  <thead>\n",
       "    <tr style=\"text-align: right;\">\n",
       "      <th></th>\n",
       "      <th>$MATCHED</th>\n",
       "      <th>category</th>\n",
       "    </tr>\n",
       "    <tr>\n",
       "      <th>eu_pas_register_number</th>\n",
       "      <th></th>\n",
       "      <th></th>\n",
       "    </tr>\n",
       "  </thead>\n",
       "  <tbody>\n",
       "    <tr>\n",
       "      <th>1578</th>\n",
       "      <td>$NotFound/UnclearValue; Agenzia Italiana del F...</td>\n",
       "      <td>Non-Commercial</td>\n",
       "    </tr>\n",
       "    <tr>\n",
       "      <th>1587</th>\n",
       "      <td>$NotFound/UnclearValue; Vall d'Hebron Universi...</td>\n",
       "      <td>Non-Commercial</td>\n",
       "    </tr>\n",
       "    <tr>\n",
       "      <th>1620</th>\n",
       "      <td>Agenzia Italiana del Farmaco (AIFA)</td>\n",
       "      <td>Non-Commercial</td>\n",
       "    </tr>\n",
       "    <tr>\n",
       "      <th>1661</th>\n",
       "      <td>$NotFound/UnclearValue</td>\n",
       "      <td>Unclear</td>\n",
       "    </tr>\n",
       "    <tr>\n",
       "      <th>2221</th>\n",
       "      <td>$NotFound/UnclearValue; VII Framework Programm...</td>\n",
       "      <td>Non-Commercial</td>\n",
       "    </tr>\n",
       "    <tr>\n",
       "      <th>...</th>\n",
       "      <td>...</td>\n",
       "      <td>...</td>\n",
       "    </tr>\n",
       "    <tr>\n",
       "      <th>107696</th>\n",
       "      <td>Avextra Pharma; Pain Technologies and Clinical...</td>\n",
       "      <td>Commercial</td>\n",
       "    </tr>\n",
       "    <tr>\n",
       "      <th>107708</th>\n",
       "      <td>European Medicines Agency (EMA)</td>\n",
       "      <td>Non-Commercial</td>\n",
       "    </tr>\n",
       "    <tr>\n",
       "      <th>108001</th>\n",
       "      <td>National Institute on Aging (NIA)</td>\n",
       "      <td>Non-Commercial</td>\n",
       "    </tr>\n",
       "    <tr>\n",
       "      <th>108167</th>\n",
       "      <td>$NoFunding</td>\n",
       "      <td>No Funding</td>\n",
       "    </tr>\n",
       "    <tr>\n",
       "      <th>108260</th>\n",
       "      <td>IIS Biobizkaia</td>\n",
       "      <td>Non-Commercial</td>\n",
       "    </tr>\n",
       "  </tbody>\n",
       "</table>\n",
       "<p>372 rows × 2 columns</p>\n",
       "</div>"
      ],
      "text/plain": [
       "                                                                 $MATCHED  \\\n",
       "eu_pas_register_number                                                      \n",
       "1578                    $NotFound/UnclearValue; Agenzia Italiana del F...   \n",
       "1587                    $NotFound/UnclearValue; Vall d'Hebron Universi...   \n",
       "1620                                  Agenzia Italiana del Farmaco (AIFA)   \n",
       "1661                                               $NotFound/UnclearValue   \n",
       "2221                    $NotFound/UnclearValue; VII Framework Programm...   \n",
       "...                                                                   ...   \n",
       "107696                  Avextra Pharma; Pain Technologies and Clinical...   \n",
       "107708                                    European Medicines Agency (EMA)   \n",
       "108001                                  National Institute on Aging (NIA)   \n",
       "108167                                                         $NoFunding   \n",
       "108260                                                     IIS Biobizkaia   \n",
       "\n",
       "                              category  \n",
       "eu_pas_register_number                  \n",
       "1578                    Non-Commercial  \n",
       "1587                    Non-Commercial  \n",
       "1620                    Non-Commercial  \n",
       "1661                           Unclear  \n",
       "2221                    Non-Commercial  \n",
       "...                                ...  \n",
       "107696                      Commercial  \n",
       "107708                  Non-Commercial  \n",
       "108001                  Non-Commercial  \n",
       "108167                      No Funding  \n",
       "108260                  Non-Commercial  \n",
       "\n",
       "[372 rows x 2 columns]"
      ]
     },
     "execution_count": 24,
     "metadata": {},
     "output_type": "execute_result"
    }
   ],
   "source": [
    "sponsor_classification_manual = sponsor_classification_manual.groupby(sponsor_classification_manual.index).agg({\n",
    "    '$MATCHED': lambda x : '; '.join(x.astype(str)) if not x.isna().all() else x,\n",
    "    'category': agg_sponsor_category\n",
    "})\n",
    "\n",
    "sponsor_classification_manual"
   ]
  },
  {
   "cell_type": "code",
   "execution_count": 25,
   "metadata": {},
   "outputs": [
    {
     "data": {
      "text/plain": [
       "category\n",
       "Non-Commercial    212\n",
       "Commercial         67\n",
       "Unclear            36\n",
       "Mixed              36\n",
       "No Funding         21\n",
       "Name: count, dtype: int64"
      ]
     },
     "execution_count": 25,
     "metadata": {},
     "output_type": "execute_result"
    }
   ],
   "source": [
    "sponsor_classification_manual['category'].value_counts()"
   ]
  },
  {
   "cell_type": "markdown",
   "metadata": {},
   "source": [
    "Finally, we will export the results:"
   ]
  },
  {
   "cell_type": "code",
   "execution_count": 26,
   "metadata": {},
   "outputs": [],
   "source": [
    "pd.read_excel('../../data/ema_rwd/ema_rwd_p_m_gpt_o_v2.xlsx', index_col=0).set_index('Eu Pas Register Number').merge(\n",
    "    sponsor_classification_manual['category'].rename(\"Funding Sources Grouped Override\"),\n",
    "    left_index=True, \n",
    "    right_index=True,\n",
    "    how='left'\n",
    ").reset_index(names='Eu Pas Register Number').to_excel('../../data/ema_rwd/ema_rwd_p_m_gpt_o_s.xlsx', sheet_name='PAS')"
   ]
  },
  {
   "cell_type": "code",
   "execution_count": null,
   "metadata": {},
   "outputs": [],
   "source": []
  }
 ],
 "metadata": {
  "kernelspec": {
   "display_name": "eupas",
   "language": "python",
   "name": "python3"
  },
  "language_info": {
   "codemirror_mode": {
    "name": "ipython",
    "version": 3
   },
   "file_extension": ".py",
   "mimetype": "text/x-python",
   "name": "python",
   "nbconvert_exporter": "python",
   "pygments_lexer": "ipython3",
   "version": "3.11.6"
  }
 },
 "nbformat": 4,
 "nbformat_minor": 2
}
