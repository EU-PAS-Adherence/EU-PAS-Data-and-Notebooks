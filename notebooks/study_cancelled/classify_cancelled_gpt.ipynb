{
 "cells": [
  {
   "cell_type": "markdown",
   "metadata": {},
   "source": [
    "# GPT 3.5 Classification\n",
    "We will use GPT 3.5 Turbo (ChatGPT) to find cancelled studies based on the `description` field.\n",
    "\n",
    "<small>**NOTE:** We did not find any additional cancelled studies, which weren't already found by the GPT 3.5 Classification.</small>\n",
    "\n",
    "<small>**NOTE:** Not used for final analysis. We instead used a manual classification approach.</small>"
   ]
  },
  {
   "cell_type": "markdown",
   "metadata": {},
   "source": [
    "First import the packages:"
   ]
  },
  {
   "cell_type": "code",
   "execution_count": 2,
   "metadata": {},
   "outputs": [],
   "source": [
    "from openai import OpenAI\n",
    "import pandas as pd\n",
    "import numpy as np\n",
    "from tqdm.notebook import tqdm\n",
    "\n",
    "import json\n",
    "\n",
    "# NOTE: configure the environment variable OPENAI_API_KEY=\"your_api_key_here\" first\n",
    "client = OpenAI()"
   ]
  },
  {
   "cell_type": "markdown",
   "metadata": {},
   "source": [
    "This variable has to be `True` to run the model. \n",
    "<br>**This will cost credits!**"
   ]
  },
  {
   "cell_type": "code",
   "execution_count": 3,
   "metadata": {},
   "outputs": [],
   "source": [
    "RUN_AI_TASK = True"
   ]
  },
  {
   "cell_type": "markdown",
   "metadata": {},
   "source": [
    "First we will import the data. We want to patch. We use these helper functions to get correct names and $\\texttt{NA}$ Values."
   ]
  },
  {
   "cell_type": "code",
   "execution_count": null,
   "metadata": {},
   "outputs": [],
   "source": [
    "na_values = [\n",
    "    \"\", \"#N/A\", \"#N/A N/A\", \"#NA\", \"-1.#IND\", \"-1.#QNAN\", \"-NaN\", \"-nan\", \n",
    "    \"1.#IND\", \"1.#QNAN\", \"<NA>\", \"NULL\", \"NaN\", \"None\", \"nan\", \"null\"\n",
    "    # \"N/A\",\n",
    "    # \"NA\",\n",
    "    # \"n/a\",\n",
    "]\n",
    "\n",
    "def python_name_converter(x):\n",
    "        return '_'.join([word.lower() for word in x.split(' ')]) if x[0] != '$' else x"
   ]
  },
  {
   "cell_type": "markdown",
   "metadata": {},
   "source": [
    "We can now read the data and assign the new meta-field."
   ]
  },
  {
   "cell_type": "code",
   "execution_count": null,
   "metadata": {},
   "outputs": [],
   "source": [
    "regex_df = pd.read_excel(\n",
    "    '../../../data/ema_rwd/ema_rwd_patched_regex_v2.xlsx',\n",
    "    keep_default_na=False,\n",
    "    na_values=na_values,\n",
    "    na_filter=True\n",
    ").iloc[:, 1:].rename(\n",
    "    columns=python_name_converter\n",
    ").assign(\n",
    "    **{'$CANCELLED_GPT': pd.NA}\n",
    ")"
   ]
  },
  {
   "cell_type": "markdown",
   "metadata": {},
   "source": [
    "We will classify the study based on the `description` field. We return `pd.NA` when this field is not present or when we get a $\\texttt{JSON}$ error. \n",
    "\n",
    "We won't override generated values by default. "
   ]
  },
  {
   "cell_type": "code",
   "execution_count": 66,
   "metadata": {},
   "outputs": [],
   "source": [
    "system_prompt = \"You will be presented with the description of a Post-authorisation study (PAS or PASS or PAES) and your job is to detect if the study was cancelled, stopped, withdrawn, etc. Provide your answer as either True or False in JSON-Format (key: answer, type: boolean). Choose ONLY from these two values but NOT both. Answer True even if ONLY a single sentence indicates that the study was cancelled.\\n\\nNote that a study can also be cancelled if the Market-authorisation holder (MAH) or the researched medical product was withdrawn.\"\n",
    "\n",
    "def classify(description, current, override=False):\n",
    "    if pd.notna(current) and not override:\n",
    "        return current\n",
    "\n",
    "    if pd.isna(description):\n",
    "        return pd.NA\n",
    "\n",
    "    response = client.chat.completions.create(\n",
    "        model=\"gpt-3.5-turbo\",\n",
    "        response_format={ \"type\": \"json_object\" },\n",
    "        messages=[\n",
    "            {\n",
    "              \"role\": \"system\",\n",
    "              \"content\": system_prompt\n",
    "            },\n",
    "            {\n",
    "              \"role\": \"user\",\n",
    "              \"content\": json.dumps(description)\n",
    "            }\n",
    "        ],\n",
    "        temperature=1,\n",
    "        max_tokens=10,\n",
    "        top_p=1,\n",
    "        frequency_penalty=0,\n",
    "        presence_penalty=0\n",
    "    )\n",
    "        \n",
    "    try:\n",
    "        answer = json.loads(response.choices[0].message.content)['answer']\n",
    "        return answer\n",
    "    except Exception as e:\n",
    "        print('Exception: ', e)\n",
    "        return pd.NA"
   ]
  },
  {
   "cell_type": "markdown",
   "metadata": {},
   "source": [
    "We will partition the data first and run the code seperatly on every chunk to lose minimal data and credits if an error occurs. \n",
    "\n",
    "**NOTE: This will override `gpt_chunks` and therefore the generated data. Rerun the cell below first if you have empty cells, which you want to fill up.**"
   ]
  },
  {
   "cell_type": "code",
   "execution_count": null,
   "metadata": {},
   "outputs": [],
   "source": [
    "def chunker(seq, size):\n",
    "    return {i: seq[pos:pos + size] for i, pos in enumerate(range(0, len(seq), size))}\n",
    "\n",
    "chunks = chunker(regex_df, 100)\n",
    "gpt_chunks = dict()"
   ]
  },
  {
   "cell_type": "markdown",
   "metadata": {},
   "source": [
    "This will run the main task if `RUN_AI_TASK` is set to `True`. \n",
    "\n",
    "**This will use your CREDITS!**"
   ]
  },
  {
   "cell_type": "code",
   "execution_count": 67,
   "metadata": {},
   "outputs": [
    {
     "data": {
      "application/vnd.jupyter.widget-view+json": {
       "model_id": "a94713c095714234a2711ea0586cac61",
       "version_major": 2,
       "version_minor": 0
      },
      "text/plain": [
       "GPT Classification 0:   0%|          | 0/100 [00:00<?, ?it/s]"
      ]
     },
     "metadata": {},
     "output_type": "display_data"
    },
    {
     "data": {
      "application/vnd.jupyter.widget-view+json": {
       "model_id": "684b43cc6a1d453bba9c0d2f024243a0",
       "version_major": 2,
       "version_minor": 0
      },
      "text/plain": [
       "GPT Classification 1:   0%|          | 0/100 [00:00<?, ?it/s]"
      ]
     },
     "metadata": {},
     "output_type": "display_data"
    },
    {
     "data": {
      "application/vnd.jupyter.widget-view+json": {
       "model_id": "90cf0ca246e74697b16875db5c5eb615",
       "version_major": 2,
       "version_minor": 0
      },
      "text/plain": [
       "GPT Classification 2:   0%|          | 0/100 [00:00<?, ?it/s]"
      ]
     },
     "metadata": {},
     "output_type": "display_data"
    },
    {
     "data": {
      "application/vnd.jupyter.widget-view+json": {
       "model_id": "f416872f088a4fe6a299bd52e2049501",
       "version_major": 2,
       "version_minor": 0
      },
      "text/plain": [
       "GPT Classification 3:   0%|          | 0/100 [00:00<?, ?it/s]"
      ]
     },
     "metadata": {},
     "output_type": "display_data"
    },
    {
     "data": {
      "application/vnd.jupyter.widget-view+json": {
       "model_id": "2f42d240d069482a953b3afee0f6fcd7",
       "version_major": 2,
       "version_minor": 0
      },
      "text/plain": [
       "GPT Classification 4:   0%|          | 0/100 [00:00<?, ?it/s]"
      ]
     },
     "metadata": {},
     "output_type": "display_data"
    },
    {
     "data": {
      "application/vnd.jupyter.widget-view+json": {
       "model_id": "8a7c9d1a63344d72b927f68cf62aa031",
       "version_major": 2,
       "version_minor": 0
      },
      "text/plain": [
       "GPT Classification 5:   0%|          | 0/100 [00:00<?, ?it/s]"
      ]
     },
     "metadata": {},
     "output_type": "display_data"
    },
    {
     "data": {
      "application/vnd.jupyter.widget-view+json": {
       "model_id": "08a0c252a8294aa1a2b81d318a5f9534",
       "version_major": 2,
       "version_minor": 0
      },
      "text/plain": [
       "GPT Classification 6:   0%|          | 0/100 [00:00<?, ?it/s]"
      ]
     },
     "metadata": {},
     "output_type": "display_data"
    },
    {
     "data": {
      "application/vnd.jupyter.widget-view+json": {
       "model_id": "d4d53e51382d4e8eb9c21255d37424f3",
       "version_major": 2,
       "version_minor": 0
      },
      "text/plain": [
       "GPT Classification 7:   0%|          | 0/100 [00:00<?, ?it/s]"
      ]
     },
     "metadata": {},
     "output_type": "display_data"
    },
    {
     "data": {
      "application/vnd.jupyter.widget-view+json": {
       "model_id": "06f5339fe1d544baab7c304a7a4fcd4d",
       "version_major": 2,
       "version_minor": 0
      },
      "text/plain": [
       "GPT Classification 8:   0%|          | 0/100 [00:00<?, ?it/s]"
      ]
     },
     "metadata": {},
     "output_type": "display_data"
    },
    {
     "data": {
      "application/vnd.jupyter.widget-view+json": {
       "model_id": "6461f6fdb44e4b9bb95f2497068aca8f",
       "version_major": 2,
       "version_minor": 0
      },
      "text/plain": [
       "GPT Classification 9:   0%|          | 0/100 [00:00<?, ?it/s]"
      ]
     },
     "metadata": {},
     "output_type": "display_data"
    },
    {
     "data": {
      "application/vnd.jupyter.widget-view+json": {
       "model_id": "9f52fdbfccf741759244016d1cc424e0",
       "version_major": 2,
       "version_minor": 0
      },
      "text/plain": [
       "GPT Classification 10:   0%|          | 0/100 [00:00<?, ?it/s]"
      ]
     },
     "metadata": {},
     "output_type": "display_data"
    },
    {
     "data": {
      "application/vnd.jupyter.widget-view+json": {
       "model_id": "4e01152c1d19438c908ea4b2fcdc438c",
       "version_major": 2,
       "version_minor": 0
      },
      "text/plain": [
       "GPT Classification 11:   0%|          | 0/100 [00:00<?, ?it/s]"
      ]
     },
     "metadata": {},
     "output_type": "display_data"
    },
    {
     "data": {
      "application/vnd.jupyter.widget-view+json": {
       "model_id": "9938963e745d4875aa1076999572a4f6",
       "version_major": 2,
       "version_minor": 0
      },
      "text/plain": [
       "GPT Classification 12:   0%|          | 0/100 [00:00<?, ?it/s]"
      ]
     },
     "metadata": {},
     "output_type": "display_data"
    },
    {
     "data": {
      "application/vnd.jupyter.widget-view+json": {
       "model_id": "ac7cdfdf7d42478aaa53fe2a6d89ed22",
       "version_major": 2,
       "version_minor": 0
      },
      "text/plain": [
       "GPT Classification 13:   0%|          | 0/100 [00:00<?, ?it/s]"
      ]
     },
     "metadata": {},
     "output_type": "display_data"
    },
    {
     "data": {
      "application/vnd.jupyter.widget-view+json": {
       "model_id": "58129126b30f4c7392c57bdf2b149665",
       "version_major": 2,
       "version_minor": 0
      },
      "text/plain": [
       "GPT Classification 14:   0%|          | 0/100 [00:00<?, ?it/s]"
      ]
     },
     "metadata": {},
     "output_type": "display_data"
    },
    {
     "data": {
      "application/vnd.jupyter.widget-view+json": {
       "model_id": "bc1785b21d224f6c93abdda9e35aff75",
       "version_major": 2,
       "version_minor": 0
      },
      "text/plain": [
       "GPT Classification 15:   0%|          | 0/100 [00:00<?, ?it/s]"
      ]
     },
     "metadata": {},
     "output_type": "display_data"
    },
    {
     "data": {
      "application/vnd.jupyter.widget-view+json": {
       "model_id": "6eb53f07f975427f8defbad68dc78efc",
       "version_major": 2,
       "version_minor": 0
      },
      "text/plain": [
       "GPT Classification 16:   0%|          | 0/100 [00:00<?, ?it/s]"
      ]
     },
     "metadata": {},
     "output_type": "display_data"
    },
    {
     "data": {
      "application/vnd.jupyter.widget-view+json": {
       "model_id": "58d8e53d631f4fb09313ea454867a41d",
       "version_major": 2,
       "version_minor": 0
      },
      "text/plain": [
       "GPT Classification 17:   0%|          | 0/100 [00:00<?, ?it/s]"
      ]
     },
     "metadata": {},
     "output_type": "display_data"
    },
    {
     "data": {
      "application/vnd.jupyter.widget-view+json": {
       "model_id": "267f0edbcfeb4efeb3b4b7f65bc81951",
       "version_major": 2,
       "version_minor": 0
      },
      "text/plain": [
       "GPT Classification 18:   0%|          | 0/100 [00:00<?, ?it/s]"
      ]
     },
     "metadata": {},
     "output_type": "display_data"
    },
    {
     "data": {
      "application/vnd.jupyter.widget-view+json": {
       "model_id": "59d71e8501ae4ba080d91c41f2317600",
       "version_major": 2,
       "version_minor": 0
      },
      "text/plain": [
       "GPT Classification 19:   0%|          | 0/100 [00:00<?, ?it/s]"
      ]
     },
     "metadata": {},
     "output_type": "display_data"
    },
    {
     "data": {
      "application/vnd.jupyter.widget-view+json": {
       "model_id": "e0eecba724a7428fbb35e7637cada806",
       "version_major": 2,
       "version_minor": 0
      },
      "text/plain": [
       "GPT Classification 20:   0%|          | 0/100 [00:00<?, ?it/s]"
      ]
     },
     "metadata": {},
     "output_type": "display_data"
    },
    {
     "data": {
      "application/vnd.jupyter.widget-view+json": {
       "model_id": "a45af89ee49547729b7cfa9c37034484",
       "version_major": 2,
       "version_minor": 0
      },
      "text/plain": [
       "GPT Classification 21:   0%|          | 0/100 [00:00<?, ?it/s]"
      ]
     },
     "metadata": {},
     "output_type": "display_data"
    },
    {
     "data": {
      "application/vnd.jupyter.widget-view+json": {
       "model_id": "603c9f5c9f534237873b46cd5de550ca",
       "version_major": 2,
       "version_minor": 0
      },
      "text/plain": [
       "GPT Classification 22:   0%|          | 0/100 [00:00<?, ?it/s]"
      ]
     },
     "metadata": {},
     "output_type": "display_data"
    },
    {
     "data": {
      "application/vnd.jupyter.widget-view+json": {
       "model_id": "7b153eabd29f4ddeb43ba68d345f5ffc",
       "version_major": 2,
       "version_minor": 0
      },
      "text/plain": [
       "GPT Classification 23:   0%|          | 0/100 [00:00<?, ?it/s]"
      ]
     },
     "metadata": {},
     "output_type": "display_data"
    },
    {
     "data": {
      "application/vnd.jupyter.widget-view+json": {
       "model_id": "26eaf62bfe1541e198788dee0613e6e6",
       "version_major": 2,
       "version_minor": 0
      },
      "text/plain": [
       "GPT Classification 24:   0%|          | 0/100 [00:00<?, ?it/s]"
      ]
     },
     "metadata": {},
     "output_type": "display_data"
    },
    {
     "data": {
      "application/vnd.jupyter.widget-view+json": {
       "model_id": "367a145c41b34740bb140d068266d0ca",
       "version_major": 2,
       "version_minor": 0
      },
      "text/plain": [
       "GPT Classification 25:   0%|          | 0/100 [00:00<?, ?it/s]"
      ]
     },
     "metadata": {},
     "output_type": "display_data"
    },
    {
     "data": {
      "application/vnd.jupyter.widget-view+json": {
       "model_id": "bf05d5cbb6914af39c2aafecf6cd2822",
       "version_major": 2,
       "version_minor": 0
      },
      "text/plain": [
       "GPT Classification 26:   0%|          | 0/100 [00:00<?, ?it/s]"
      ]
     },
     "metadata": {},
     "output_type": "display_data"
    },
    {
     "data": {
      "application/vnd.jupyter.widget-view+json": {
       "model_id": "a7e2ec6a63b34a429bfbba0a208fb09b",
       "version_major": 2,
       "version_minor": 0
      },
      "text/plain": [
       "GPT Classification 27:   0%|          | 0/60 [00:00<?, ?it/s]"
      ]
     },
     "metadata": {},
     "output_type": "display_data"
    }
   ],
   "source": [
    "def find_gpt_cancelled_by_index(df, index):\n",
    "    return df.at[index, '$CANCELLED_GPT'] if isinstance(df, pd.DataFrame) else pd.NA\n",
    "\n",
    "if RUN_AI_TASK:\n",
    "    for k, chunk_df in chunks.items():\n",
    "        tqdm.pandas(desc=f'GPT Classification {k}')\n",
    "        gpt_chunks[k] = chunk_df.assign(\n",
    "            **{'$CANCELLED_GPT': chunk_df.progress_apply(lambda x : classify(x['description'], find_gpt_cancelled_by_index(gpt_chunks.get(k, None), x.name)), axis='columns')}\n",
    "        )"
   ]
  },
  {
   "cell_type": "markdown",
   "metadata": {},
   "source": [
    "We will now concatenate the chunks and revert some changes in the `pd.Dataframe`."
   ]
  },
  {
   "cell_type": "code",
   "execution_count": 107,
   "metadata": {},
   "outputs": [],
   "source": [
    "def excel_name_converter(x):\n",
    "        return ' '.join([word.capitalize() for word in x.split('_')]) if x[0] != '$' else x\n",
    "\n",
    "gpt_df = pd.concat(gpt_chunks.values())\n",
    "gpt_df.loc[:, ['$CANCELLED_GPT', '$CANCELLED_MANUAL']] = gpt_df.loc[:, ['$CANCELLED_GPT', '$CANCELLED_MANUAL']].astype(bool)\n",
    "gpt_df = gpt_df.assign(\n",
    "    **{\n",
    "        '$CANCELLED_GPT': np.where(gpt_df['description'].isna(), pd.NA, gpt_df['$CANCELLED_GPT']),\n",
    "        '$CANCELLED_MANUAL' : np.where(gpt_df['description'].isna(), pd.NA, gpt_df['$CANCELLED_MANUAL'])\n",
    "    }\n",
    ").rename(columns=excel_name_converter)"
   ]
  },
  {
   "cell_type": "markdown",
   "metadata": {},
   "source": [
    "We can now view and export the data."
   ]
  },
  {
   "cell_type": "code",
   "execution_count": 108,
   "metadata": {},
   "outputs": [
    {
     "data": {
      "text/html": [
       "<div>\n",
       "<style scoped>\n",
       "    .dataframe tbody tr th:only-of-type {\n",
       "        vertical-align: middle;\n",
       "    }\n",
       "\n",
       "    .dataframe tbody tr th {\n",
       "        vertical-align: top;\n",
       "    }\n",
       "\n",
       "    .dataframe thead th {\n",
       "        text-align: right;\n",
       "    }\n",
       "</style>\n",
       "<table border=\"1\" class=\"dataframe\">\n",
       "  <thead>\n",
       "    <tr style=\"text-align: right;\">\n",
       "      <th></th>\n",
       "      <th>Eu Pas Register Number</th>\n",
       "      <th>Title</th>\n",
       "      <th>Url</th>\n",
       "      <th>Registration Date</th>\n",
       "      <th>Update Date</th>\n",
       "      <th>Puri</th>\n",
       "      <th>Countries</th>\n",
       "      <th>Description</th>\n",
       "      <th>State</th>\n",
       "      <th>Lead Institution Encepp</th>\n",
       "      <th>...</th>\n",
       "      <th>Check Stability</th>\n",
       "      <th>Check Logical Consistency</th>\n",
       "      <th>Conducted Data Characterisation</th>\n",
       "      <th>$CANCELLED</th>\n",
       "      <th>$CANCELLED_MANUAL</th>\n",
       "      <th>$UPDATED_state</th>\n",
       "      <th>$UPDATED_state_eq_state</th>\n",
       "      <th>$CANCELLED_extracted_word</th>\n",
       "      <th>$CANCELLED_extracted_sentence</th>\n",
       "      <th>$CANCELLED_GPT</th>\n",
       "    </tr>\n",
       "  </thead>\n",
       "  <tbody>\n",
       "    <tr>\n",
       "      <th>0</th>\n",
       "      <td>1578</td>\n",
       "      <td>Long-term outcomes and adverse events of thera...</td>\n",
       "      <td>https://catalogues.ema.europa.eu/study/9133</td>\n",
       "      <td>2010-10-27</td>\n",
       "      <td>2015-03-30</td>\n",
       "      <td>https://redirect.ema.europa.eu/resource/9133</td>\n",
       "      <td>Italy</td>\n",
       "      <td>Objectives: to measure long-term outcomes and ...</td>\n",
       "      <td>Finalised</td>\n",
       "      <td>Department of Epidemiology of the Regional Hea...</td>\n",
       "      <td>...</td>\n",
       "      <td>Unknown</td>\n",
       "      <td>Unknown</td>\n",
       "      <td>No</td>\n",
       "      <td>False</td>\n",
       "      <td>False</td>\n",
       "      <td>Finalised</td>\n",
       "      <td>True</td>\n",
       "      <td>NaN</td>\n",
       "      <td>NaN</td>\n",
       "      <td>False</td>\n",
       "    </tr>\n",
       "    <tr>\n",
       "      <th>1</th>\n",
       "      <td>1587</td>\n",
       "      <td>DEVELOPMENT AND VALIDATION OF A SHORTENED VERS...</td>\n",
       "      <td>https://catalogues.ema.europa.eu/study/1588</td>\n",
       "      <td>2010-10-25</td>\n",
       "      <td>2010-10-25</td>\n",
       "      <td>https://redirect.ema.europa.eu/resource/1588</td>\n",
       "      <td>Spain</td>\n",
       "      <td>Questionnaires for measuring quality of life i...</td>\n",
       "      <td>Finalised</td>\n",
       "      <td>University Hospital Vall d’Hebron (HUVH)</td>\n",
       "      <td>...</td>\n",
       "      <td>Unknown</td>\n",
       "      <td>Unknown</td>\n",
       "      <td>No</td>\n",
       "      <td>False</td>\n",
       "      <td>False</td>\n",
       "      <td>Finalised</td>\n",
       "      <td>True</td>\n",
       "      <td>NaN</td>\n",
       "      <td>NaN</td>\n",
       "      <td>False</td>\n",
       "    </tr>\n",
       "    <tr>\n",
       "      <th>2</th>\n",
       "      <td>1591</td>\n",
       "      <td>Cardiac profile of patients using rosiglitazon...</td>\n",
       "      <td>https://catalogues.ema.europa.eu/study/15148</td>\n",
       "      <td>2010-10-06</td>\n",
       "      <td>2016-09-09</td>\n",
       "      <td>https://redirect.ema.europa.eu/resource/15148</td>\n",
       "      <td>United Kingdom</td>\n",
       "      <td>The study is a retrospective analysis of a coh...</td>\n",
       "      <td>Finalised</td>\n",
       "      <td>European Medicines Agency (EMA)</td>\n",
       "      <td>...</td>\n",
       "      <td>Unknown</td>\n",
       "      <td>Unknown</td>\n",
       "      <td>No</td>\n",
       "      <td>False</td>\n",
       "      <td>False</td>\n",
       "      <td>Finalised</td>\n",
       "      <td>True</td>\n",
       "      <td>NaN</td>\n",
       "      <td>NaN</td>\n",
       "      <td>False</td>\n",
       "    </tr>\n",
       "    <tr>\n",
       "      <th>3</th>\n",
       "      <td>1594</td>\n",
       "      <td>Validation of statistical signal detection pro...</td>\n",
       "      <td>https://catalogues.ema.europa.eu/study/14160</td>\n",
       "      <td>2010-10-20</td>\n",
       "      <td>2016-07-19</td>\n",
       "      <td>https://redirect.ema.europa.eu/resource/14160</td>\n",
       "      <td>United Kingdom</td>\n",
       "      <td>OBJECTIVE: To evaluate whether statistical sig...</td>\n",
       "      <td>Finalised</td>\n",
       "      <td>European Medicines Agency (EMA)</td>\n",
       "      <td>...</td>\n",
       "      <td>Unknown</td>\n",
       "      <td>Unknown</td>\n",
       "      <td>No</td>\n",
       "      <td>False</td>\n",
       "      <td>False</td>\n",
       "      <td>Finalised</td>\n",
       "      <td>True</td>\n",
       "      <td>NaN</td>\n",
       "      <td>NaN</td>\n",
       "      <td>False</td>\n",
       "    </tr>\n",
       "    <tr>\n",
       "      <th>4</th>\n",
       "      <td>1597</td>\n",
       "      <td>International Active Surveillance study - Fola...</td>\n",
       "      <td>https://catalogues.ema.europa.eu/study/36862</td>\n",
       "      <td>2010-10-26</td>\n",
       "      <td>2020-08-24</td>\n",
       "      <td>https://redirect.ema.europa.eu/resource/36862</td>\n",
       "      <td>Canada; Russian Federation; Ukraine; United St...</td>\n",
       "      <td>Oral Contraceptives containing DRSP have been ...</td>\n",
       "      <td>Finalised</td>\n",
       "      <td>Berlin Center for Epidemiology &amp; Health Resear...</td>\n",
       "      <td>...</td>\n",
       "      <td>Unknown</td>\n",
       "      <td>Unknown</td>\n",
       "      <td>No</td>\n",
       "      <td>True</td>\n",
       "      <td>True</td>\n",
       "      <td>Finalised</td>\n",
       "      <td>True</td>\n",
       "      <td>discontinue</td>\n",
       "      <td>Because of the rarity of CRC, the recruitments...</td>\n",
       "      <td>True</td>\n",
       "    </tr>\n",
       "    <tr>\n",
       "      <th>...</th>\n",
       "      <td>...</td>\n",
       "      <td>...</td>\n",
       "      <td>...</td>\n",
       "      <td>...</td>\n",
       "      <td>...</td>\n",
       "      <td>...</td>\n",
       "      <td>...</td>\n",
       "      <td>...</td>\n",
       "      <td>...</td>\n",
       "      <td>...</td>\n",
       "      <td>...</td>\n",
       "      <td>...</td>\n",
       "      <td>...</td>\n",
       "      <td>...</td>\n",
       "      <td>...</td>\n",
       "      <td>...</td>\n",
       "      <td>...</td>\n",
       "      <td>...</td>\n",
       "      <td>...</td>\n",
       "      <td>...</td>\n",
       "      <td>...</td>\n",
       "    </tr>\n",
       "    <tr>\n",
       "      <th>2755</th>\n",
       "      <td>108481</td>\n",
       "      <td>Post Marketing Surveillance of Effectiveness (...</td>\n",
       "      <td>https://catalogues.ema.europa.eu/study/199010</td>\n",
       "      <td>2024-01-18</td>\n",
       "      <td>2024-01-18</td>\n",
       "      <td>https://redirect.ema.europa.eu/resource/199010</td>\n",
       "      <td>China</td>\n",
       "      <td>This is a multicenter observational study invo...</td>\n",
       "      <td>Ongoing</td>\n",
       "      <td>Merck &amp; Co.</td>\n",
       "      <td>...</td>\n",
       "      <td>Unknown</td>\n",
       "      <td>Unknown</td>\n",
       "      <td>No</td>\n",
       "      <td>False</td>\n",
       "      <td>False</td>\n",
       "      <td>Ongoing</td>\n",
       "      <td>True</td>\n",
       "      <td>NaN</td>\n",
       "      <td>NaN</td>\n",
       "      <td>False</td>\n",
       "    </tr>\n",
       "    <tr>\n",
       "      <th>2756</th>\n",
       "      <td>108728</td>\n",
       "      <td>A Non-Interventional Multi-Database Post-Autho...</td>\n",
       "      <td>https://catalogues.ema.europa.eu/study/199011</td>\n",
       "      <td>2024-01-16</td>\n",
       "      <td>2024-01-16</td>\n",
       "      <td>https://redirect.ema.europa.eu/resource/199011</td>\n",
       "      <td>Denmark; Finland; France; Germany; United States</td>\n",
       "      <td>The aim of this study is to describe congenita...</td>\n",
       "      <td>Planned</td>\n",
       "      <td>IQVIA</td>\n",
       "      <td>...</td>\n",
       "      <td>Unknown</td>\n",
       "      <td>Unknown</td>\n",
       "      <td>No</td>\n",
       "      <td>False</td>\n",
       "      <td>False</td>\n",
       "      <td>Planned</td>\n",
       "      <td>True</td>\n",
       "      <td>NaN</td>\n",
       "      <td>NaN</td>\n",
       "      <td>False</td>\n",
       "    </tr>\n",
       "    <tr>\n",
       "      <th>2757</th>\n",
       "      <td>108847</td>\n",
       "      <td>Post-Authorisation Safety Study of Comirnaty O...</td>\n",
       "      <td>https://catalogues.ema.europa.eu/study/199012</td>\n",
       "      <td>2024-01-22</td>\n",
       "      <td>2024-01-22</td>\n",
       "      <td>https://redirect.ema.europa.eu/resource/199012</td>\n",
       "      <td>Italy; Netherlands; Norway; Spain; United Kingdom</td>\n",
       "      <td>This study aims to answer the research questio...</td>\n",
       "      <td>Planned</td>\n",
       "      <td>Pfizer</td>\n",
       "      <td>...</td>\n",
       "      <td>Unknown</td>\n",
       "      <td>Unknown</td>\n",
       "      <td>No</td>\n",
       "      <td>False</td>\n",
       "      <td>False</td>\n",
       "      <td>Planned</td>\n",
       "      <td>True</td>\n",
       "      <td>NaN</td>\n",
       "      <td>NaN</td>\n",
       "      <td>False</td>\n",
       "    </tr>\n",
       "    <tr>\n",
       "      <th>2758</th>\n",
       "      <td>108904</td>\n",
       "      <td>Prospective Observational Study to Monitor and...</td>\n",
       "      <td>https://catalogues.ema.europa.eu/study/199013</td>\n",
       "      <td>2024-01-22</td>\n",
       "      <td>2024-02-17</td>\n",
       "      <td>https://redirect.ema.europa.eu/resource/199013</td>\n",
       "      <td>Brazil; Bulgaria; Denmark; France; Germany; Is...</td>\n",
       "      <td>This is a multinational, non-interventional, o...</td>\n",
       "      <td>Planned</td>\n",
       "      <td>IQVIA</td>\n",
       "      <td>...</td>\n",
       "      <td>Unknown</td>\n",
       "      <td>Unknown</td>\n",
       "      <td>No</td>\n",
       "      <td>False</td>\n",
       "      <td>False</td>\n",
       "      <td>Planned</td>\n",
       "      <td>True</td>\n",
       "      <td>NaN</td>\n",
       "      <td>NaN</td>\n",
       "      <td>False</td>\n",
       "    </tr>\n",
       "    <tr>\n",
       "      <th>2759</th>\n",
       "      <td>108949</td>\n",
       "      <td>The UK-Irish Atopic Eczema Systemic Therapy Re...</td>\n",
       "      <td>https://catalogues.ema.europa.eu/study/199014</td>\n",
       "      <td>2024-01-22</td>\n",
       "      <td>2024-01-22</td>\n",
       "      <td>https://redirect.ema.europa.eu/resource/199014</td>\n",
       "      <td>Ireland; United Kingdom (Northern Ireland)</td>\n",
       "      <td>The A-STAR Study is linked to the European Tre...</td>\n",
       "      <td>Ongoing</td>\n",
       "      <td>NaN</td>\n",
       "      <td>...</td>\n",
       "      <td>Unknown</td>\n",
       "      <td>Unknown</td>\n",
       "      <td>No</td>\n",
       "      <td>False</td>\n",
       "      <td>False</td>\n",
       "      <td>Ongoing</td>\n",
       "      <td>True</td>\n",
       "      <td>NaN</td>\n",
       "      <td>NaN</td>\n",
       "      <td>False</td>\n",
       "    </tr>\n",
       "  </tbody>\n",
       "</table>\n",
       "<p>2760 rows × 68 columns</p>\n",
       "</div>"
      ],
      "text/plain": [
       "      Eu Pas Register Number  \\\n",
       "0                       1578   \n",
       "1                       1587   \n",
       "2                       1591   \n",
       "3                       1594   \n",
       "4                       1597   \n",
       "...                      ...   \n",
       "2755                  108481   \n",
       "2756                  108728   \n",
       "2757                  108847   \n",
       "2758                  108904   \n",
       "2759                  108949   \n",
       "\n",
       "                                                  Title  \\\n",
       "0     Long-term outcomes and adverse events of thera...   \n",
       "1     DEVELOPMENT AND VALIDATION OF A SHORTENED VERS...   \n",
       "2     Cardiac profile of patients using rosiglitazon...   \n",
       "3     Validation of statistical signal detection pro...   \n",
       "4     International Active Surveillance study - Fola...   \n",
       "...                                                 ...   \n",
       "2755  Post Marketing Surveillance of Effectiveness (...   \n",
       "2756  A Non-Interventional Multi-Database Post-Autho...   \n",
       "2757  Post-Authorisation Safety Study of Comirnaty O...   \n",
       "2758  Prospective Observational Study to Monitor and...   \n",
       "2759  The UK-Irish Atopic Eczema Systemic Therapy Re...   \n",
       "\n",
       "                                                Url Registration Date  \\\n",
       "0       https://catalogues.ema.europa.eu/study/9133        2010-10-27   \n",
       "1       https://catalogues.ema.europa.eu/study/1588        2010-10-25   \n",
       "2      https://catalogues.ema.europa.eu/study/15148        2010-10-06   \n",
       "3      https://catalogues.ema.europa.eu/study/14160        2010-10-20   \n",
       "4      https://catalogues.ema.europa.eu/study/36862        2010-10-26   \n",
       "...                                             ...               ...   \n",
       "2755  https://catalogues.ema.europa.eu/study/199010        2024-01-18   \n",
       "2756  https://catalogues.ema.europa.eu/study/199011        2024-01-16   \n",
       "2757  https://catalogues.ema.europa.eu/study/199012        2024-01-22   \n",
       "2758  https://catalogues.ema.europa.eu/study/199013        2024-01-22   \n",
       "2759  https://catalogues.ema.europa.eu/study/199014        2024-01-22   \n",
       "\n",
       "     Update Date                                            Puri  \\\n",
       "0     2015-03-30    https://redirect.ema.europa.eu/resource/9133   \n",
       "1     2010-10-25    https://redirect.ema.europa.eu/resource/1588   \n",
       "2     2016-09-09   https://redirect.ema.europa.eu/resource/15148   \n",
       "3     2016-07-19   https://redirect.ema.europa.eu/resource/14160   \n",
       "4     2020-08-24   https://redirect.ema.europa.eu/resource/36862   \n",
       "...          ...                                             ...   \n",
       "2755  2024-01-18  https://redirect.ema.europa.eu/resource/199010   \n",
       "2756  2024-01-16  https://redirect.ema.europa.eu/resource/199011   \n",
       "2757  2024-01-22  https://redirect.ema.europa.eu/resource/199012   \n",
       "2758  2024-02-17  https://redirect.ema.europa.eu/resource/199013   \n",
       "2759  2024-01-22  https://redirect.ema.europa.eu/resource/199014   \n",
       "\n",
       "                                              Countries  \\\n",
       "0                                                 Italy   \n",
       "1                                                 Spain   \n",
       "2                                        United Kingdom   \n",
       "3                                        United Kingdom   \n",
       "4     Canada; Russian Federation; Ukraine; United St...   \n",
       "...                                                 ...   \n",
       "2755                                              China   \n",
       "2756   Denmark; Finland; France; Germany; United States   \n",
       "2757  Italy; Netherlands; Norway; Spain; United Kingdom   \n",
       "2758  Brazil; Bulgaria; Denmark; France; Germany; Is...   \n",
       "2759         Ireland; United Kingdom (Northern Ireland)   \n",
       "\n",
       "                                            Description      State  \\\n",
       "0     Objectives: to measure long-term outcomes and ...  Finalised   \n",
       "1     Questionnaires for measuring quality of life i...  Finalised   \n",
       "2     The study is a retrospective analysis of a coh...  Finalised   \n",
       "3     OBJECTIVE: To evaluate whether statistical sig...  Finalised   \n",
       "4     Oral Contraceptives containing DRSP have been ...  Finalised   \n",
       "...                                                 ...        ...   \n",
       "2755  This is a multicenter observational study invo...    Ongoing   \n",
       "2756  The aim of this study is to describe congenita...    Planned   \n",
       "2757  This study aims to answer the research questio...    Planned   \n",
       "2758  This is a multinational, non-interventional, o...    Planned   \n",
       "2759  The A-STAR Study is linked to the European Tre...    Ongoing   \n",
       "\n",
       "                                Lead Institution Encepp  ... Check Stability  \\\n",
       "0     Department of Epidemiology of the Regional Hea...  ...         Unknown   \n",
       "1              University Hospital Vall d’Hebron (HUVH)  ...         Unknown   \n",
       "2                       European Medicines Agency (EMA)  ...         Unknown   \n",
       "3                       European Medicines Agency (EMA)  ...         Unknown   \n",
       "4     Berlin Center for Epidemiology & Health Resear...  ...         Unknown   \n",
       "...                                                 ...  ...             ...   \n",
       "2755                                        Merck & Co.  ...         Unknown   \n",
       "2756                                              IQVIA  ...         Unknown   \n",
       "2757                                             Pfizer  ...         Unknown   \n",
       "2758                                              IQVIA  ...         Unknown   \n",
       "2759                                                NaN  ...         Unknown   \n",
       "\n",
       "     Check Logical Consistency Conducted Data Characterisation $CANCELLED  \\\n",
       "0                      Unknown                              No      False   \n",
       "1                      Unknown                              No      False   \n",
       "2                      Unknown                              No      False   \n",
       "3                      Unknown                              No      False   \n",
       "4                      Unknown                              No       True   \n",
       "...                        ...                             ...        ...   \n",
       "2755                   Unknown                              No      False   \n",
       "2756                   Unknown                              No      False   \n",
       "2757                   Unknown                              No      False   \n",
       "2758                   Unknown                              No      False   \n",
       "2759                   Unknown                              No      False   \n",
       "\n",
       "     $CANCELLED_MANUAL $UPDATED_state $UPDATED_state_eq_state  \\\n",
       "0                False      Finalised                    True   \n",
       "1                False      Finalised                    True   \n",
       "2                False      Finalised                    True   \n",
       "3                False      Finalised                    True   \n",
       "4                 True      Finalised                    True   \n",
       "...                ...            ...                     ...   \n",
       "2755             False        Ongoing                    True   \n",
       "2756             False        Planned                    True   \n",
       "2757             False        Planned                    True   \n",
       "2758             False        Planned                    True   \n",
       "2759             False        Ongoing                    True   \n",
       "\n",
       "     $CANCELLED_extracted_word  \\\n",
       "0                          NaN   \n",
       "1                          NaN   \n",
       "2                          NaN   \n",
       "3                          NaN   \n",
       "4                  discontinue   \n",
       "...                        ...   \n",
       "2755                       NaN   \n",
       "2756                       NaN   \n",
       "2757                       NaN   \n",
       "2758                       NaN   \n",
       "2759                       NaN   \n",
       "\n",
       "                          $CANCELLED_extracted_sentence $CANCELLED_GPT  \n",
       "0                                                   NaN          False  \n",
       "1                                                   NaN          False  \n",
       "2                                                   NaN          False  \n",
       "3                                                   NaN          False  \n",
       "4     Because of the rarity of CRC, the recruitments...           True  \n",
       "...                                                 ...            ...  \n",
       "2755                                                NaN          False  \n",
       "2756                                                NaN          False  \n",
       "2757                                                NaN          False  \n",
       "2758                                                NaN          False  \n",
       "2759                                                NaN          False  \n",
       "\n",
       "[2760 rows x 68 columns]"
      ]
     },
     "execution_count": 108,
     "metadata": {},
     "output_type": "execute_result"
    }
   ],
   "source": [
    "gpt_df"
   ]
  },
  {
   "cell_type": "code",
   "execution_count": 109,
   "metadata": {},
   "outputs": [],
   "source": [
    "gpt_df.to_excel('ema_rwd_patched_gpt.xlsx', sheet_name='PAS')"
   ]
  }
 ],
 "metadata": {
  "kernelspec": {
   "display_name": "eupas",
   "language": "python",
   "name": "python3"
  },
  "language_info": {
   "codemirror_mode": {
    "name": "ipython",
    "version": 3
   },
   "file_extension": ".py",
   "mimetype": "text/x-python",
   "name": "python",
   "nbconvert_exporter": "python",
   "pygments_lexer": "ipython3",
   "version": "3.11.6"
  }
 },
 "nbformat": 4,
 "nbformat_minor": 4
}
