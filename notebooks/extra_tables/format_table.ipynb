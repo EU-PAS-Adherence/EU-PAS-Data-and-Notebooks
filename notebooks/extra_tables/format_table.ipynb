{
 "cells": [
  {
   "cell_type": "markdown",
   "metadata": {},
   "source": [
    "# Formating tables for publications\n",
    "This has to be done to make the tables understandable. In hindsight it would have been better to use a library like `TableOne`.\n",
    "\n",
    "First we import the needed library:"
   ]
  },
  {
   "cell_type": "code",
   "execution_count": 1,
   "metadata": {},
   "outputs": [],
   "source": [
    "from pathlib import Path\n",
    "import re\n",
    "\n",
    "import pandas as pd\n",
    "import numpy as np"
   ]
  },
  {
   "cell_type": "markdown",
   "metadata": {},
   "source": [
    "## Logit / Frequency tables"
   ]
  },
  {
   "cell_type": "markdown",
   "metadata": {},
   "source": [
    "Now we will define functions and helper variables for formatting:"
   ]
  },
  {
   "cell_type": "code",
   "execution_count": 2,
   "metadata": {},
   "outputs": [],
   "source": [
    "# Variables will be renamed by the values of this dict and sorted to match the order of the keys \n",
    "variable_rename_and_reorder_map = {\n",
    "    # Requirements\n",
    "    'risk_management_plan': 'Study required by a Risk Management Plan',\n",
    "    'requested_by_regulator': 'Study required by a regulatory body',\n",
    "    # Funding\n",
    "    'funding_sources_grouped': 'Type of funding source',\n",
    "    'multiple_funding_sources': 'Multiple funding sources',\n",
    "    'number_of_studies_funded_by_biggest_sponsor_quartiles': 'Number of PAS funded by sponsor, quartiles',\n",
    "    # Study\n",
    "    'number_of_countries_grouped': 'Countries in which study is conducted',\n",
    "    'study_type': 'Study type',\n",
    "    'number_of_subjects_grouped': 'Estimated study population size',\n",
    "    'age_population': 'Age of study population',\n",
    "    'studied_medical_conditions': 'Medical condition(s) to be studied',\n",
    "    'has_outcomes': 'Outcomes specified',\n",
    "    # Research network and Data sources\n",
    "    'collaboration_with_research_network': 'Collaboration of a research network',\n",
    "    'uses_established_data_source': 'Study uses established data source',\n",
    "    # Date based\n",
    "    'updated_state': 'Status of study',\n",
    "    'planned_duration_quartiles': 'Planned duration of study, quartiles',\n",
    "    # Outcomes\n",
    "    'has_protocol': 'Study made protocol public',\n",
    "    'has_result': 'Study made final report public'\n",
    "}"
   ]
  },
  {
   "cell_type": "code",
   "execution_count": 3,
   "metadata": {},
   "outputs": [],
   "source": [
    "value_rename_map = {\n",
    "    'True': 'Yes',\n",
    "    'False': 'No',\n",
    "    '18+ years': '≥18 years',\n",
    "    '18+ years; <18 years': '<18 and ≥18 years',\n",
    "    'Not available': 'Unspecified',\n",
    "    'EU RMP category 1 (imposed as condition of marketing authorisation)': 'EU RMP category 1',\n",
    "    'EU RMP category 2 (specific obligation of marketing authorisation)': 'EU RMP category 2',\n",
    "    'EU RMP category 3 (required)': 'EU RMP category 3',\n",
    "    'Non-interventional study': 'Non-interventional'\n",
    "}"
   ]
  },
  {
   "cell_type": "code",
   "execution_count": 8,
   "metadata": {},
   "outputs": [
    {
     "data": {
      "text/plain": [
       "'number_of_studies_funded_by_biggest_sponsor_quartile_intervals_all.npy'"
      ]
     },
     "metadata": {},
     "output_type": "display_data"
    },
    {
     "data": {
      "text/plain": [
       "[1.0, 8.0, 58.0, 110.0, 176.0]"
      ]
     },
     "metadata": {},
     "output_type": "display_data"
    },
    {
     "data": {
      "text/plain": [
       "'number_of_studies_funded_by_biggest_sponsor_quartile_intervals_due_protocol.npy'"
      ]
     },
     "metadata": {},
     "output_type": "display_data"
    },
    {
     "data": {
      "text/plain": [
       "[1.0, 9.0, 58.0, 110.0, 176.0]"
      ]
     },
     "metadata": {},
     "output_type": "display_data"
    },
    {
     "data": {
      "text/plain": [
       "'number_of_studies_funded_by_biggest_sponsor_quartile_intervals_due_result.npy'"
      ]
     },
     "metadata": {},
     "output_type": "display_data"
    },
    {
     "data": {
      "text/plain": [
       "[1.0, 11.0, 72.0, 122.0, 176.0]"
      ]
     },
     "metadata": {},
     "output_type": "display_data"
    },
    {
     "data": {
      "text/plain": [
       "'planned_duration_quartile_intervals_all.npy'"
      ]
     },
     "metadata": {},
     "output_type": "display_data"
    },
    {
     "data": {
      "text/plain": [
       "([0.02, 0.83, 2.08, 4.57, 35.58], [6, 304, 761, 1670, 12995])"
      ]
     },
     "metadata": {},
     "output_type": "display_data"
    },
    {
     "data": {
      "text/plain": [
       "'planned_duration_quartile_intervals_due_protocol.npy'"
      ]
     },
     "metadata": {},
     "output_type": "display_data"
    },
    {
     "data": {
      "text/plain": [
       "([0.02, 0.84, 2.17, 4.66, 23.03], [6, 305, 791, 1701, 8412])"
      ]
     },
     "metadata": {},
     "output_type": "display_data"
    },
    {
     "data": {
      "text/plain": [
       "'planned_duration_quartile_intervals_due_result.npy'"
      ]
     },
     "metadata": {},
     "output_type": "display_data"
    },
    {
     "data": {
      "text/plain": [
       "([0.02, 0.67, 1.64, 3.35, 19.74], [6, 243, 598, 1224, 7211])"
      ]
     },
     "metadata": {},
     "output_type": "display_data"
    }
   ],
   "source": [
    "INPUT_FOLDER = Path('../../output/ema_rwd')\n",
    "\n",
    "quartile_intervals = {\n",
    "    file.name: np.load(file)\n",
    "    for file in INPUT_FOLDER.glob('*_quartile_intervals*.npy')\n",
    "}\n",
    "\n",
    "for [k, v] in sorted(quartile_intervals.items()):\n",
    "    display(k, (np.round((v.astype('timedelta64[D]').astype(float) / 365.25), 2).tolist(), v.astype('timedelta64[D]').astype(int).tolist()) if v.dtype == 'timedelta64[ns]' else v.tolist())"
   ]
  },
  {
   "cell_type": "code",
   "execution_count": 8,
   "metadata": {},
   "outputs": [],
   "source": [
    "def rename_and_reorder(df: pd.DataFrame, type='frequency', sort_references_to_start=True, multivariate_only=False):\n",
    "\n",
    "    pre_order = df.rename(index=value_rename_map, level=1)\n",
    "    \n",
    "    if type == 'frequency':\n",
    "        pre_order = (\n",
    "            pre_order\n",
    "            .rename_axis(index=['Variable, n (%)', 'Category'])\n",
    "            .rename(columns=lambda x : x.replace('(', '(N='))\n",
    "            .drop('registration_year_grouped', level=0)\n",
    "        )\n",
    "    elif type == 'logit':\n",
    "        pre_order = (\n",
    "            pre_order\n",
    "            .rename_axis(index=['Variable', 'Category'])\n",
    "            .drop(['registration_year_grouped', 'requested_by_regulator', 'study_topic_grouped'], level=0, errors='ignore')\n",
    "        )\n",
    "\n",
    "    ordered = pd.DataFrame()\n",
    "\n",
    "    for variable in pre_order.index.get_level_values(0).unique():\n",
    "        concat_df = pre_order.loc[[variable], :, :]\n",
    "\n",
    "        correct_value_order = []\n",
    "        if len(concat_df) == 2 and variable not in ['number_of_countries_grouped', 'updated_state']:\n",
    "            correct_value_order = ['Yes', 'No']\n",
    "        elif variable == 'age_population':\n",
    "            correct_value_order = ['<18 years', '≥18 years', '<18 and ≥18 years']\n",
    "        elif variable == 'funding_sources_grouped':\n",
    "            correct_value_order = ['Commercial', 'Non-Commercial', 'Mixed', 'Unclear', 'No Funding']\n",
    "        elif variable == 'number_of_subjects_grouped':\n",
    "            correct_value_order = ['<100', '100-<500', '500-<1000', '1000-10000', '>10000']\n",
    "        elif variable == 'requested_by_regulator':\n",
    "            correct_value_order = ['Yes', 'No', 'Unspecified']\n",
    "        elif len(concat_df) == 2 and variable == 'updated_state':\n",
    "            correct_value_order = ['Ongoing', 'Finalised']\n",
    "\n",
    "        if type == \"logit\" and sort_references_to_start:\n",
    "            if not correct_value_order:\n",
    "                correct_value_order = concat_df.index.get_level_values(1).to_list()\n",
    "            is_reference = pre_order.loc[variable][pre_order.columns.difference(['N', 'n (%)'])].isna().all(axis='columns')\n",
    "            reference_value = is_reference[is_reference == True].index.to_list()[0]\n",
    "            reference_index = correct_value_order.index(reference_value)\n",
    "            correct_value_order.insert(0, correct_value_order.pop(reference_index))\n",
    "\n",
    "        if correct_value_order:\n",
    "            concat_df = pre_order.loc[[variable], correct_value_order, :]\n",
    "\n",
    "        ordered = pd.concat([\n",
    "            ordered,\n",
    "            concat_df\n",
    "        ])\n",
    "    \n",
    "    ordered = ordered \\\n",
    "        .sort_index(\n",
    "            level=0, \n",
    "            key=lambda x : x.map(dict(zip(variable_rename_and_reorder_map.keys(), range(len(variable_rename_and_reorder_map))))),\n",
    "            sort_remaining=False\n",
    "        ) \\\n",
    "        .rename(index=variable_rename_and_reorder_map, level=0)\n",
    "    \n",
    "    if type == 'frequency':\n",
    "        ordered.columns = pd.MultiIndex.from_tuples(\n",
    "            list(zip(\n",
    "                [pre_order.columns.values[0], *['RMP requirement'] * 6], \n",
    "                ['', *pre_order.columns.values[1:]]\n",
    "            ))\n",
    "        )\n",
    "    elif type == \"logit\":\n",
    "        if multivariate_only:\n",
    "            ordered = ordered.assign(\n",
    "                **{\n",
    "                    'OR multivariate': ordered['OR (95% CI) multivariate'].str.split(' ').str[0]\n",
    "                },\n",
    "                **{\n",
    "                    '95% CI multivariate': ordered['OR (95% CI) multivariate'].str.split(r'[()]', regex=True).str[1]\n",
    "                }\n",
    "            )[['N', 'n (%)',\n",
    "            'OR multivariate', '95% CI multivariate', 'P value multivariate']]\n",
    "                \n",
    "            ordered.columns = pd.MultiIndex.from_tuples(\n",
    "                list(zip(\n",
    "                    ['', '', *['Multivariate analysis']*3], \n",
    "                    ['N', 'n (%)', 'OR', '95% CI', 'P value']\n",
    "                ))\n",
    "            )\n",
    "        else:\n",
    "            ordered = ordered.assign(\n",
    "                **{\n",
    "                    f'OR {analysis_type}': ordered[f'OR (95% CI) {analysis_type}'].str.split(' ').str[0]\n",
    "                    for analysis_type in ['univariate', 'multivariate']\n",
    "                },\n",
    "                **{\n",
    "                    f'95% CI {analysis_type}': ordered[f'OR (95% CI) {analysis_type}'].str.split(r'[()]', regex=True).str[1]\n",
    "                    for analysis_type in ['univariate', 'multivariate']\n",
    "                }\n",
    "            )[['N', 'n (%)', 'OR univariate', '95% CI univariate', 'P value univariate',\n",
    "            'OR multivariate', '95% CI multivariate', 'P value multivariate']]\n",
    "\n",
    "            ordered.columns = pd.MultiIndex.from_tuples(\n",
    "                list(zip(\n",
    "                    ['', '', *['Univariate analysis']*3, *['Multivariate analysis']*3], \n",
    "                    ['N', 'n (%)', *['OR', '95% CI', 'P value']*2]\n",
    "                ))\n",
    "            )\n",
    "    \n",
    "    return ordered"
   ]
  },
  {
   "cell_type": "markdown",
   "metadata": {},
   "source": [
    "We will first format the frequency table:"
   ]
  },
  {
   "cell_type": "code",
   "execution_count": 77,
   "metadata": {},
   "outputs": [],
   "source": [
    "[frequency_table_due_protocol, frequency_table_due_result] = pd.read_excel(\n",
    "    INPUT_FOLDER / 'ema_rwd_final_statistics_tables_frequencies.xlsx', \n",
    "    sheet_name=['table_due_protocol', 'table_due_result'],\n",
    "    index_col=(0, 1)\n",
    ").values()"
   ]
  },
  {
   "cell_type": "code",
   "execution_count": 78,
   "metadata": {},
   "outputs": [],
   "source": [
    "final_frequency_table_due_protocol = rename_and_reorder(frequency_table_due_protocol).drop(variable_rename_and_reorder_map['has_result'], level=0)\n",
    "final_frequency_table_due_results = rename_and_reorder(frequency_table_due_result).drop(variable_rename_and_reorder_map['has_protocol'], level=0)"
   ]
  },
  {
   "cell_type": "code",
   "execution_count": 79,
   "metadata": {},
   "outputs": [],
   "source": [
    "with pd.ExcelWriter('./ema_rwd_final_statistics_tables_frequencies_formated.xlsx') as writer:\n",
    "    final_frequency_table_due_protocol.to_excel(\n",
    "        writer,\n",
    "        sheet_name='table_due_protocol'\n",
    "    )\n",
    "    final_frequency_table_due_results.to_excel(\n",
    "        writer,\n",
    "        sheet_name='table_due_result'\n",
    "    )"
   ]
  },
  {
   "cell_type": "markdown",
   "metadata": {},
   "source": [
    "Then the logit table:"
   ]
  },
  {
   "cell_type": "code",
   "execution_count": 9,
   "metadata": {},
   "outputs": [],
   "source": [
    "[logit_table_due_protocol, logit_table_due_result] = pd.read_excel(\n",
    "    INPUT_FOLDER / 'ema_rwd_final_statistics_tables_logit.xlsx',\n",
    "    sheet_name=['table_due_protocol', 'table_due_result'],\n",
    "    index_col=(0, 1)\n",
    ").values()"
   ]
  },
  {
   "cell_type": "code",
   "execution_count": 10,
   "metadata": {},
   "outputs": [],
   "source": [
    "final_logit_table_due_protocol = rename_and_reorder(logit_table_due_protocol, type='logit').fillna('')\n",
    "final_logit_table_due_results = rename_and_reorder(logit_table_due_result, type='logit').fillna('')"
   ]
  },
  {
   "cell_type": "code",
   "execution_count": 11,
   "metadata": {},
   "outputs": [],
   "source": [
    "final_logit_table = pd.merge(\n",
    "    pd.concat({'Study protocol made public': final_logit_table_due_protocol}, axis='columns'),\n",
    "    pd.concat({'Final study report made public': final_logit_table_due_results}, axis='columns'),\n",
    "    left_index=True, right_index=True,\n",
    "    how='left'\n",
    ")"
   ]
  },
  {
   "cell_type": "code",
   "execution_count": 12,
   "metadata": {},
   "outputs": [],
   "source": [
    "final_logit_table.to_excel('./ema_rwd_final_statistics_tables_logit_formated.xlsx', sheet_name='logit')"
   ]
  },
  {
   "cell_type": "markdown",
   "metadata": {},
   "source": [
    "Then the logit table for the model without outliers:"
   ]
  },
  {
   "cell_type": "code",
   "execution_count": 13,
   "metadata": {},
   "outputs": [],
   "source": [
    "logit_table_due_protocol_without_outliers = pd.read_excel(\n",
    "    '../extra_analysis/ema_rwd_final_statistics_tables_logit_without_outliers_due_protocol.xlsx',\n",
    "    index_col=(0, 1)\n",
    ")\n",
    "\n",
    "logit_table_due_result_without_outliers = pd.read_excel(\n",
    "    '../extra_analysis/ema_rwd_final_statistics_tables_logit_without_outliers_due_result.xlsx',\n",
    "    index_col=(0, 1)\n",
    ")"
   ]
  },
  {
   "cell_type": "code",
   "execution_count": 14,
   "metadata": {},
   "outputs": [],
   "source": [
    "final_logit_table_due_protocol_without_outliers = rename_and_reorder(logit_table_due_protocol_without_outliers, type='logit', multivariate_only=True).fillna('')\n",
    "final_logit_table_due_results_without_outliers = rename_and_reorder(logit_table_due_result_without_outliers, type='logit', multivariate_only=True).fillna('')"
   ]
  },
  {
   "cell_type": "code",
   "execution_count": 15,
   "metadata": {},
   "outputs": [],
   "source": [
    "final_logit_table_without_outliers = pd.merge(\n",
    "    pd.concat({'Study protocol made public': final_logit_table_due_protocol_without_outliers}, axis='columns'),\n",
    "    pd.concat({'Final study report made public': final_logit_table_due_results_without_outliers}, axis='columns'),\n",
    "    left_index=True, right_index=True,\n",
    "    how='left'\n",
    ")"
   ]
  },
  {
   "cell_type": "code",
   "execution_count": 16,
   "metadata": {},
   "outputs": [],
   "source": [
    "final_logit_table_without_outliers.to_excel('./ema_rwd_final_statistics_tables_logit_without_outliers_formated.xlsx', sheet_name='logit')"
   ]
  },
  {
   "cell_type": "markdown",
   "metadata": {},
   "source": [
    "And finally the logit table for the sensitivity analysis:"
   ]
  },
  {
   "cell_type": "code",
   "execution_count": 17,
   "metadata": {},
   "outputs": [],
   "source": [
    "logit_table_due_protocol_sensitivity = pd.read_excel(\n",
    "    '../extra_analysis/ema_rwd_final_statistics_tables_logit_sensitivity_due_protocol.xlsx',\n",
    "    index_col=(0, 1)\n",
    ")\n",
    "\n",
    "logit_table_due_result_logit_sensitivity = pd.read_excel(\n",
    "    '../extra_analysis/ema_rwd_final_statistics_tables_logit_sensitivity_due_result.xlsx',\n",
    "    index_col=(0, 1)\n",
    ")"
   ]
  },
  {
   "cell_type": "code",
   "execution_count": 18,
   "metadata": {},
   "outputs": [],
   "source": [
    "final_logit_table_due_protocol_sensitivity = rename_and_reorder(logit_table_due_protocol_sensitivity, type='logit', multivariate_only=True).fillna('')\n",
    "final_logit_table_due_results_sensitivity = rename_and_reorder(logit_table_due_result_logit_sensitivity, type='logit', multivariate_only=True).fillna('')"
   ]
  },
  {
   "cell_type": "code",
   "execution_count": 19,
   "metadata": {},
   "outputs": [],
   "source": [
    "final_logit_table_sensitivity = pd.merge(\n",
    "    pd.concat({'Study protocol made public': final_logit_table_due_protocol_sensitivity}, axis='columns'),\n",
    "    pd.concat({'Final study report made public': final_logit_table_due_results_sensitivity}, axis='columns'),\n",
    "    left_index=True, right_index=True,\n",
    "    how='left'\n",
    ")"
   ]
  },
  {
   "cell_type": "code",
   "execution_count": 20,
   "metadata": {},
   "outputs": [],
   "source": [
    "final_logit_table_sensitivity.to_excel('./ema_rwd_final_statistics_tables_logit_sensitivity_formated.xlsx', sheet_name='logit')"
   ]
  },
  {
   "cell_type": "markdown",
   "metadata": {},
   "source": [
    "## Sponsor table"
   ]
  },
  {
   "cell_type": "code",
   "execution_count": 92,
   "metadata": {},
   "outputs": [
    {
     "data": {
      "text/plain": [
       "Index(['Number Of Countries', 'Set Of Countries',\n",
       "       'Number Of Studies With Updated State Finalised',\n",
       "       'Number Of Studies With Updated State Ongoing',\n",
       "       'Number Of Studies With Updated State Planned',\n",
       "       'Number Of Studies With Updated State Nan',\n",
       "       'Number Of Studies With Risk Management Plan Eu Rmp Category 1 (imposed As Condition Of Marketing Authorisation)',\n",
       "       'Number Of Studies With Risk Management Plan Eu Rmp Category 2 (specific Obligation Of Marketing Authorisation)',\n",
       "       'Number Of Studies With Risk Management Plan Eu Rmp Category 3 (required)',\n",
       "       'Number Of Studies With Risk Management Plan Non-eu Rmp Only',\n",
       "       'Number Of Studies With Risk Management Plan Not Applicable',\n",
       "       'Number Of Studies With Risk Management Plan Nan',\n",
       "       'Number Of Studies With Result', 'Number Of Studies With Protocol',\n",
       "       'Number Of Studies With Due Protocol',\n",
       "       'Number Of Studies With Due Protocol Has Protocol',\n",
       "       'Number Of Studies With Due Result',\n",
       "       'Number Of Studies With Due Result Has Result', 'Num Studies',\n",
       "       'Study Ids'],\n",
       "      dtype='object')"
      ]
     },
     "execution_count": 92,
     "metadata": {},
     "output_type": "execute_result"
    }
   ],
   "source": [
    "sponsors = pd.read_excel(\n",
    "    '../../output/ema_rwd/ema_rwd_final_statistics_funding_all.xlsx', \n",
    "    index_col=0\n",
    ")\n",
    "\n",
    "sponsors.columns"
   ]
  },
  {
   "cell_type": "code",
   "execution_count": 93,
   "metadata": {},
   "outputs": [],
   "source": [
    "sponsor_rename_column_map = {\n",
    "    'Num Studies': 'N',\n",
    "    'Number Of Studies With Due Protocol': 'Due Protocol',\n",
    "    'Number Of Studies With Due Protocol Has Protocol': 'Due Protocol Has Protocol',\n",
    "    'Number Of Studies With Due Result': 'Due Result',\n",
    "    'Number Of Studies With Due Result Has Result': 'Due Result Has Result',\n",
    "}\n",
    "\n",
    "sponsor_rename_index_map = {\n",
    "    np.nan: 'Sponsor unspecified',\n",
    "    '$MarketingAuthorisationHolder': 'MAH not further specified',\n",
    "    '$Name': 'Name of primary lead investigator specified',\n",
    "    '$NoFunding': 'No funding',\n",
    "    '$NotFound/UnclearValue': 'Specified sponsor unclear'\n",
    "}"
   ]
  },
  {
   "cell_type": "code",
   "execution_count": 94,
   "metadata": {},
   "outputs": [
    {
     "data": {
      "text/html": [
       "<div>\n",
       "<style scoped>\n",
       "    .dataframe tbody tr th:only-of-type {\n",
       "        vertical-align: middle;\n",
       "    }\n",
       "\n",
       "    .dataframe tbody tr th {\n",
       "        vertical-align: top;\n",
       "    }\n",
       "\n",
       "    .dataframe thead tr th {\n",
       "        text-align: left;\n",
       "    }\n",
       "\n",
       "    .dataframe thead tr:last-of-type th {\n",
       "        text-align: right;\n",
       "    }\n",
       "</style>\n",
       "<table border=\"1\" class=\"dataframe\">\n",
       "  <thead>\n",
       "    <tr>\n",
       "      <th></th>\n",
       "      <th>All Studies</th>\n",
       "      <th colspan=\"2\" halign=\"left\">Protocol due</th>\n",
       "      <th colspan=\"2\" halign=\"left\">Result due</th>\n",
       "    </tr>\n",
       "    <tr>\n",
       "      <th></th>\n",
       "      <th>N</th>\n",
       "      <th>N</th>\n",
       "      <th>n</th>\n",
       "      <th>N</th>\n",
       "      <th>n</th>\n",
       "    </tr>\n",
       "    <tr>\n",
       "      <th>Sponsor</th>\n",
       "      <th></th>\n",
       "      <th></th>\n",
       "      <th></th>\n",
       "      <th></th>\n",
       "      <th></th>\n",
       "    </tr>\n",
       "  </thead>\n",
       "  <tbody>\n",
       "    <tr>\n",
       "      <th>Pfizer</th>\n",
       "      <td>176</td>\n",
       "      <td>142</td>\n",
       "      <td>119 (83.8)</td>\n",
       "      <td>91</td>\n",
       "      <td>83 (91.2)</td>\n",
       "    </tr>\n",
       "    <tr>\n",
       "      <th>European Medicines Agency</th>\n",
       "      <td>157</td>\n",
       "      <td>155</td>\n",
       "      <td>100 (64.5)</td>\n",
       "      <td>135</td>\n",
       "      <td>106 (78.5)</td>\n",
       "    </tr>\n",
       "    <tr>\n",
       "      <th>Amgen</th>\n",
       "      <td>143</td>\n",
       "      <td>137</td>\n",
       "      <td>101 (73.7)</td>\n",
       "      <td>103</td>\n",
       "      <td>98 (95.1)</td>\n",
       "    </tr>\n",
       "    <tr>\n",
       "      <th>Boehringer Ingelheim</th>\n",
       "      <td>122</td>\n",
       "      <td>93</td>\n",
       "      <td>34 (36.6)</td>\n",
       "      <td>51</td>\n",
       "      <td>29 (56.9)</td>\n",
       "    </tr>\n",
       "    <tr>\n",
       "      <th>Specified sponsor unclear</th>\n",
       "      <td>110</td>\n",
       "      <td>77</td>\n",
       "      <td>28 (36.4)</td>\n",
       "      <td>46</td>\n",
       "      <td>20 (43.5)</td>\n",
       "    </tr>\n",
       "    <tr>\n",
       "      <th>...</th>\n",
       "      <td>...</td>\n",
       "      <td>...</td>\n",
       "      <td>...</td>\n",
       "      <td>...</td>\n",
       "      <td>...</td>\n",
       "    </tr>\n",
       "    <tr>\n",
       "      <th>bene-Arzneimittel</th>\n",
       "      <td>1</td>\n",
       "      <td>1</td>\n",
       "      <td>0 (0.0)</td>\n",
       "      <td>1</td>\n",
       "      <td>0 (0.0)</td>\n",
       "    </tr>\n",
       "    <tr>\n",
       "      <th>bluebird bio</th>\n",
       "      <td>1</td>\n",
       "      <td>1</td>\n",
       "      <td>0 (0.0)</td>\n",
       "      <td>0</td>\n",
       "      <td>0 (0.0)</td>\n",
       "    </tr>\n",
       "    <tr>\n",
       "      <th>mibe</th>\n",
       "      <td>1</td>\n",
       "      <td>1</td>\n",
       "      <td>0 (0.0)</td>\n",
       "      <td>0</td>\n",
       "      <td>0 (0.0)</td>\n",
       "    </tr>\n",
       "    <tr>\n",
       "      <th>uniQure</th>\n",
       "      <td>1</td>\n",
       "      <td>1</td>\n",
       "      <td>0 (0.0)</td>\n",
       "      <td>0</td>\n",
       "      <td>0 (0.0)</td>\n",
       "    </tr>\n",
       "    <tr>\n",
       "      <th>ÚJV Řež</th>\n",
       "      <td>1</td>\n",
       "      <td>1</td>\n",
       "      <td>0 (0.0)</td>\n",
       "      <td>0</td>\n",
       "      <td>0 (0.0)</td>\n",
       "    </tr>\n",
       "  </tbody>\n",
       "</table>\n",
       "<p>638 rows × 5 columns</p>\n",
       "</div>"
      ],
      "text/plain": [
       "                          All Studies Protocol due             Result due  \\\n",
       "                                    N            N           n          N   \n",
       "Sponsor                                                                     \n",
       "Pfizer                            176          142  119 (83.8)         91   \n",
       "European Medicines Agency         157          155  100 (64.5)        135   \n",
       "Amgen                             143          137  101 (73.7)        103   \n",
       "Boehringer Ingelheim              122           93   34 (36.6)         51   \n",
       "Specified sponsor unclear         110           77   28 (36.4)         46   \n",
       "...                               ...          ...         ...        ...   \n",
       "bene-Arzneimittel                   1            1     0 (0.0)          1   \n",
       "bluebird bio                        1            1     0 (0.0)          0   \n",
       "mibe                                1            1     0 (0.0)          0   \n",
       "uniQure                             1            1     0 (0.0)          0   \n",
       "ÚJV Řež                             1            1     0 (0.0)          0   \n",
       "\n",
       "                                       \n",
       "                                    n  \n",
       "Sponsor                                \n",
       "Pfizer                      83 (91.2)  \n",
       "European Medicines Agency  106 (78.5)  \n",
       "Amgen                       98 (95.1)  \n",
       "Boehringer Ingelheim        29 (56.9)  \n",
       "Specified sponsor unclear   20 (43.5)  \n",
       "...                               ...  \n",
       "bene-Arzneimittel             0 (0.0)  \n",
       "bluebird bio                  0 (0.0)  \n",
       "mibe                          0 (0.0)  \n",
       "uniQure                       0 (0.0)  \n",
       "ÚJV Řež                       0 (0.0)  \n",
       "\n",
       "[638 rows x 5 columns]"
      ]
     },
     "execution_count": 94,
     "metadata": {},
     "output_type": "execute_result"
    }
   ],
   "source": [
    "sponsors_formated = (\n",
    "    sponsors[sponsor_rename_column_map.keys()]\n",
    "    .rename_axis(index='Sponsor')\n",
    "    .rename(\n",
    "        index = lambda ax: re.sub(r'\\s+\\(.+\\)$', '', sponsor_rename_index_map.get(ax, ax))\n",
    "    ).rename(\n",
    "        columns=sponsor_rename_column_map\n",
    "    ).groupby(level=0).sum() # This is not needed anymore\n",
    ")\n",
    "\n",
    "sponsors_formated = (\n",
    "    sponsors_formated.assign(\n",
    "        **{\n",
    "            f'Due {outcome} Has {outcome}': sponsors_formated[f'Due {outcome} Has {outcome}'].astype(str) + \n",
    "            ' (' + (100 * sponsors_formated[f'Due {outcome} Has {outcome}'] / sponsors_formated[f'Due {outcome}']).fillna(0).round(1).astype(str) + ')'\n",
    "            for outcome in ['Protocol', 'Result']\n",
    "        }\n",
    "    )\n",
    "    .reset_index() # Needed for correct sorting\n",
    "    .sort_values(by=['N', 'Sponsor'], ascending=(False, True))\n",
    "    .set_index('Sponsor')\n",
    ")\n",
    "\n",
    "sponsors_formated.columns = pd.MultiIndex.from_arrays([\n",
    "    ['All Studies', 'Protocol due', 'Protocol due', 'Result due', 'Result due'],\n",
    "    ['N', 'N', 'n', 'N', 'n']\n",
    "])\n",
    "\n",
    "sponsors_formated"
   ]
  },
  {
   "cell_type": "code",
   "execution_count": 95,
   "metadata": {},
   "outputs": [],
   "source": [
    "sponsors_formated.to_excel('./ema_rwd_final_statistics_funding_all_formated.xlsx')"
   ]
  },
  {
   "cell_type": "code",
   "execution_count": null,
   "metadata": {},
   "outputs": [],
   "source": []
  }
 ],
 "metadata": {
  "kernelspec": {
   "display_name": "eupas",
   "language": "python",
   "name": "python3"
  },
  "language_info": {
   "codemirror_mode": {
    "name": "ipython",
    "version": 3
   },
   "file_extension": ".py",
   "mimetype": "text/x-python",
   "name": "python",
   "nbconvert_exporter": "python",
   "pygments_lexer": "ipython3",
   "version": "3.11.6"
  }
 },
 "nbformat": 4,
 "nbformat_minor": 2
}
