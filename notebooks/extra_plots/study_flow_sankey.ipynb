{
 "cells": [
  {
   "cell_type": "markdown",
   "metadata": {},
   "source": [
    "# Study Flow Sankey diagram\n",
    "\n",
    "We will plot the study flow chart as a Sankey diagram.\n",
    "\n",
    "We will use an external tool and need to export the data in a special format.\n",
    "\n",
    "<small>**NOTE:** This notebook was used on top of the `ema_rwd_statistic.py` script to generate data for the study flow chart Sankey.</small>"
   ]
  },
  {
   "cell_type": "markdown",
   "metadata": {},
   "source": [
    "First we will import the needed packages:"
   ]
  },
  {
   "cell_type": "code",
   "execution_count": 2,
   "metadata": {},
   "outputs": [],
   "source": [
    "import numpy as np\n",
    "import pandas as pd"
   ]
  },
  {
   "cell_type": "markdown",
   "metadata": {},
   "source": [
    "And the data:"
   ]
  },
  {
   "cell_type": "code",
   "execution_count": 3,
   "metadata": {},
   "outputs": [],
   "source": [
    "def python_name_converter(x):\n",
    "    return '_'.join([word.lower() for word in x.split(' ')]) if x[0] != '$' else x\n",
    "\n",
    "base = '../../output/ema_rwd/ema_rwd_final'\n",
    "\n",
    "raw = pd.read_excel(f'{base}.xlsx').rename(columns=python_name_converter).set_index('eu_pas_register_number')\n",
    "variables, variables_due_protocol, variables_due_result = pd.read_excel(f'{base}_statistics_variables.xlsx', sheet_name=None).values()\n",
    "\n",
    "variables = variables.set_index('eu_pas_register_number')\n",
    "variables_due_protocol = variables_due_protocol.set_index('eu_pas_register_number')\n",
    "variables_due_result = variables_due_result.set_index('eu_pas_register_number')"
   ]
  },
  {
   "cell_type": "markdown",
   "metadata": {},
   "source": [
    "## Cancelled Studies"
   ]
  },
  {
   "cell_type": "code",
   "execution_count": 6,
   "metadata": {},
   "outputs": [
    {
     "data": {
      "text/html": [
       "<div>\n",
       "<style scoped>\n",
       "    .dataframe tbody tr th:only-of-type {\n",
       "        vertical-align: middle;\n",
       "    }\n",
       "\n",
       "    .dataframe tbody tr th {\n",
       "        vertical-align: top;\n",
       "    }\n",
       "\n",
       "    .dataframe thead th {\n",
       "        text-align: right;\n",
       "    }\n",
       "</style>\n",
       "<table border=\"1\" class=\"dataframe\">\n",
       "  <thead>\n",
       "    <tr style=\"text-align: right;\">\n",
       "      <th></th>\n",
       "      <th>To</th>\n",
       "      <th>count</th>\n",
       "      <th>From</th>\n",
       "    </tr>\n",
       "  </thead>\n",
       "  <tbody>\n",
       "    <tr>\n",
       "      <th>0</th>\n",
       "      <td>Finalised</td>\n",
       "      <td>1484</td>\n",
       "      <td>All</td>\n",
       "    </tr>\n",
       "    <tr>\n",
       "      <th>1</th>\n",
       "      <td>Ongoing</td>\n",
       "      <td>816</td>\n",
       "      <td>All</td>\n",
       "    </tr>\n",
       "    <tr>\n",
       "      <th>2</th>\n",
       "      <td>Planned</td>\n",
       "      <td>400</td>\n",
       "      <td>All</td>\n",
       "    </tr>\n",
       "    <tr>\n",
       "      <th>3</th>\n",
       "      <td>Cancelled</td>\n",
       "      <td>60</td>\n",
       "      <td>All</td>\n",
       "    </tr>\n",
       "  </tbody>\n",
       "</table>\n",
       "</div>"
      ],
      "text/plain": [
       "          To  count From\n",
       "0  Finalised   1484  All\n",
       "1    Ongoing    816  All\n",
       "2    Planned    400  All\n",
       "3  Cancelled     60  All"
      ]
     },
     "execution_count": 6,
     "metadata": {},
     "output_type": "execute_result"
    }
   ],
   "source": [
    "raw.loc[raw['$CANCELLED_MANUAL'].fillna(False).astype(bool), '$UPDATED_state'] = 'Cancelled'\n",
    "sankey_df = raw['$UPDATED_state_override'].combine_first(raw['$UPDATED_state']).rename('To').value_counts().to_frame().reset_index().assign(From='All')\n",
    "sankey_df"
   ]
  },
  {
   "cell_type": "markdown",
   "metadata": {},
   "source": [
    "## Due Report and Due Protocol"
   ]
  },
  {
   "cell_type": "code",
   "execution_count": 7,
   "metadata": {},
   "outputs": [
    {
     "data": {
      "text/html": [
       "<div>\n",
       "<style scoped>\n",
       "    .dataframe tbody tr th:only-of-type {\n",
       "        vertical-align: middle;\n",
       "    }\n",
       "\n",
       "    .dataframe tbody tr th {\n",
       "        vertical-align: top;\n",
       "    }\n",
       "\n",
       "    .dataframe thead th {\n",
       "        text-align: right;\n",
       "    }\n",
       "</style>\n",
       "<table border=\"1\" class=\"dataframe\">\n",
       "  <thead>\n",
       "    <tr style=\"text-align: right;\">\n",
       "      <th></th>\n",
       "      <th>From</th>\n",
       "      <th>count</th>\n",
       "      <th>To</th>\n",
       "    </tr>\n",
       "  </thead>\n",
       "  <tbody>\n",
       "    <tr>\n",
       "      <th>0</th>\n",
       "      <td>Finalised</td>\n",
       "      <td>1484</td>\n",
       "      <td>Due Protocols</td>\n",
       "    </tr>\n",
       "    <tr>\n",
       "      <th>1</th>\n",
       "      <td>Ongoing</td>\n",
       "      <td>816</td>\n",
       "      <td>Due Protocols</td>\n",
       "    </tr>\n",
       "  </tbody>\n",
       "</table>\n",
       "</div>"
      ],
      "text/plain": [
       "        From  count             To\n",
       "0  Finalised   1484  Due Protocols\n",
       "1    Ongoing    816  Due Protocols"
      ]
     },
     "execution_count": 7,
     "metadata": {},
     "output_type": "execute_result"
    }
   ],
   "source": [
    "due_protocols = variables_due_protocol['updated_state'].rename('From').value_counts().to_frame().reset_index().assign(To='Due Protocols')\n",
    "\n",
    "sankey_df = pd.concat([\n",
    "    sankey_df, due_protocols\n",
    "])\n",
    "\n",
    "due_protocols"
   ]
  },
  {
   "cell_type": "code",
   "execution_count": 8,
   "metadata": {},
   "outputs": [
    {
     "data": {
      "text/html": [
       "<div>\n",
       "<style scoped>\n",
       "    .dataframe tbody tr th:only-of-type {\n",
       "        vertical-align: middle;\n",
       "    }\n",
       "\n",
       "    .dataframe tbody tr th {\n",
       "        vertical-align: top;\n",
       "    }\n",
       "\n",
       "    .dataframe thead th {\n",
       "        text-align: right;\n",
       "    }\n",
       "</style>\n",
       "<table border=\"1\" class=\"dataframe\">\n",
       "  <thead>\n",
       "    <tr style=\"text-align: right;\">\n",
       "      <th></th>\n",
       "      <th>count</th>\n",
       "      <th>From</th>\n",
       "      <th>To</th>\n",
       "    </tr>\n",
       "  </thead>\n",
       "  <tbody>\n",
       "    <tr>\n",
       "      <th>0</th>\n",
       "      <td>1482</td>\n",
       "      <td>Finalised</td>\n",
       "      <td>Due Results</td>\n",
       "    </tr>\n",
       "    <tr>\n",
       "      <th>1</th>\n",
       "      <td>2</td>\n",
       "      <td>Finalised</td>\n",
       "      <td>Not Due Results</td>\n",
       "    </tr>\n",
       "  </tbody>\n",
       "</table>\n",
       "</div>"
      ],
      "text/plain": [
       "   count       From               To\n",
       "0   1482  Finalised      Due Results\n",
       "1      2  Finalised  Not Due Results"
      ]
     },
     "execution_count": 8,
     "metadata": {},
     "output_type": "execute_result"
    }
   ],
   "source": [
    "due_results = variables.loc[variables['updated_state'].isin(['Finalised']), 'due_result'] \\\n",
    "    .rename('updated_state').value_counts().to_frame().reset_index() \\\n",
    "    .assign(\n",
    "        From='Finalised',\n",
    "        To=lambda x : np.where(x['updated_state'], 'Due Results', 'Not Due Results')\n",
    "    ) \\\n",
    "    .drop(columns='updated_state')\n",
    "\n",
    "sankey_df = pd.concat([\n",
    "    sankey_df, due_results\n",
    "])\n",
    "\n",
    "due_results"
   ]
  },
  {
   "cell_type": "markdown",
   "metadata": {},
   "source": [
    "### Newest study due report / protocol"
   ]
  },
  {
   "cell_type": "code",
   "execution_count": 9,
   "metadata": {},
   "outputs": [
    {
     "name": "stdout",
     "output_type": "stream",
     "text": [
      "2023-12-15 00:00:00\n",
      "68 days 23:20:00\n",
      "2024-01-16 00:00:00\n",
      "36 days 23:20:00\n"
     ]
    }
   ],
   "source": [
    "compare_datetime = np.datetime64('2024-02-21T23:20', 'm')\n",
    "print(variables_due_result['final_report_date_actual'].sort_values().iat[-1])\n",
    "print(compare_datetime - variables_due_result['final_report_date_actual'].sort_values().iat[-1])\n",
    "print(variables_due_protocol['data_collection_date_actual'].sort_values().iat[-1])\n",
    "print(compare_datetime - variables_due_protocol['data_collection_date_actual'].sort_values().iat[-1])"
   ]
  },
  {
   "cell_type": "markdown",
   "metadata": {},
   "source": [
    "## Export"
   ]
  },
  {
   "cell_type": "markdown",
   "metadata": {},
   "source": [
    "We can now export the combined data"
   ]
  },
  {
   "cell_type": "code",
   "execution_count": 10,
   "metadata": {},
   "outputs": [
    {
     "data": {
      "text/html": [
       "<div>\n",
       "<style scoped>\n",
       "    .dataframe tbody tr th:only-of-type {\n",
       "        vertical-align: middle;\n",
       "    }\n",
       "\n",
       "    .dataframe tbody tr th {\n",
       "        vertical-align: top;\n",
       "    }\n",
       "\n",
       "    .dataframe thead th {\n",
       "        text-align: right;\n",
       "    }\n",
       "</style>\n",
       "<table border=\"1\" class=\"dataframe\">\n",
       "  <thead>\n",
       "    <tr style=\"text-align: right;\">\n",
       "      <th></th>\n",
       "      <th>To</th>\n",
       "      <th>count</th>\n",
       "      <th>From</th>\n",
       "    </tr>\n",
       "  </thead>\n",
       "  <tbody>\n",
       "    <tr>\n",
       "      <th>0</th>\n",
       "      <td>Finalised</td>\n",
       "      <td>1484</td>\n",
       "      <td>All</td>\n",
       "    </tr>\n",
       "    <tr>\n",
       "      <th>1</th>\n",
       "      <td>Ongoing</td>\n",
       "      <td>816</td>\n",
       "      <td>All</td>\n",
       "    </tr>\n",
       "    <tr>\n",
       "      <th>2</th>\n",
       "      <td>Planned</td>\n",
       "      <td>400</td>\n",
       "      <td>All</td>\n",
       "    </tr>\n",
       "    <tr>\n",
       "      <th>3</th>\n",
       "      <td>Cancelled</td>\n",
       "      <td>60</td>\n",
       "      <td>All</td>\n",
       "    </tr>\n",
       "    <tr>\n",
       "      <th>0</th>\n",
       "      <td>Due Protocols</td>\n",
       "      <td>1484</td>\n",
       "      <td>Finalised</td>\n",
       "    </tr>\n",
       "    <tr>\n",
       "      <th>1</th>\n",
       "      <td>Due Protocols</td>\n",
       "      <td>816</td>\n",
       "      <td>Ongoing</td>\n",
       "    </tr>\n",
       "    <tr>\n",
       "      <th>0</th>\n",
       "      <td>Due Results</td>\n",
       "      <td>1482</td>\n",
       "      <td>Finalised</td>\n",
       "    </tr>\n",
       "    <tr>\n",
       "      <th>1</th>\n",
       "      <td>Not Due Results</td>\n",
       "      <td>2</td>\n",
       "      <td>Finalised</td>\n",
       "    </tr>\n",
       "  </tbody>\n",
       "</table>\n",
       "</div>"
      ],
      "text/plain": [
       "                To  count       From\n",
       "0        Finalised   1484        All\n",
       "1          Ongoing    816        All\n",
       "2          Planned    400        All\n",
       "3        Cancelled     60        All\n",
       "0    Due Protocols   1484  Finalised\n",
       "1    Due Protocols    816    Ongoing\n",
       "0      Due Results   1482  Finalised\n",
       "1  Not Due Results      2  Finalised"
      ]
     },
     "execution_count": 10,
     "metadata": {},
     "output_type": "execute_result"
    }
   ],
   "source": [
    "sankey_df"
   ]
  },
  {
   "cell_type": "code",
   "execution_count": 11,
   "metadata": {},
   "outputs": [],
   "source": [
    "sankey_df.to_csv('study_flow_sankey.csv', index=False)"
   ]
  },
  {
   "cell_type": "markdown",
   "metadata": {},
   "source": [
    "### Other format"
   ]
  },
  {
   "cell_type": "markdown",
   "metadata": {},
   "source": [
    "This format is used by another tool"
   ]
  },
  {
   "cell_type": "code",
   "execution_count": 12,
   "metadata": {},
   "outputs": [
    {
     "name": "stdout",
     "output_type": "stream",
     "text": [
      "All [1484] Finalised\n",
      "All [816] Ongoing\n",
      "All [400] Planned\n",
      "All [60] Cancelled\n",
      "Finalised [1484] Due Protocols\n",
      "Ongoing [816] Due Protocols\n",
      "Finalised [1482] Due Results\n",
      "Finalised [2] Not Due Results\n"
     ]
    }
   ],
   "source": [
    "extra_df = sankey_df\n",
    "extra_df = extra_df.assign(\n",
    "    formula=lambda x : x['From'].astype(str) + ' [' + x['count'].astype(str) + '] ' + x['To'].astype(str)\n",
    ")\n",
    "print('\\n'.join(extra_df['formula'].values))"
   ]
  },
  {
   "cell_type": "markdown",
   "metadata": {},
   "source": [
    "## Extended Sankey + Export"
   ]
  },
  {
   "cell_type": "markdown",
   "metadata": {},
   "source": [
    "We can also export an extended version, which will also add the flow to the outcomes as a last stage"
   ]
  },
  {
   "cell_type": "code",
   "execution_count": 13,
   "metadata": {},
   "outputs": [],
   "source": [
    "has_protocols = variables_due_protocol['has_protocol'].rename('has_protocol').value_counts().to_frame().reset_index() \\\n",
    "    .assign(\n",
    "        From='Due Protocols',\n",
    "        To=lambda x : np.where(x['has_protocol'], 'Has Protocols', 'No Protocols')\n",
    "    ) \\\n",
    "    .drop(columns='has_protocol')\n",
    "\n",
    "sankey_df = pd.concat([\n",
    "    sankey_df, has_protocols\n",
    "])\n",
    "\n",
    "has_results = variables_due_result['has_result'].rename('has_result').value_counts().to_frame().reset_index() \\\n",
    "    .assign(\n",
    "        From='Due Results',\n",
    "        To=lambda x : np.where(x['has_result'], 'Has Results', 'No Results')\n",
    "    ) \\\n",
    "    .drop(columns='has_result')\n",
    "\n",
    "sankey_extended_df = pd.concat([\n",
    "    sankey_df, has_results\n",
    "])"
   ]
  },
  {
   "cell_type": "code",
   "execution_count": 14,
   "metadata": {},
   "outputs": [
    {
     "data": {
      "text/html": [
       "<div>\n",
       "<style scoped>\n",
       "    .dataframe tbody tr th:only-of-type {\n",
       "        vertical-align: middle;\n",
       "    }\n",
       "\n",
       "    .dataframe tbody tr th {\n",
       "        vertical-align: top;\n",
       "    }\n",
       "\n",
       "    .dataframe thead th {\n",
       "        text-align: right;\n",
       "    }\n",
       "</style>\n",
       "<table border=\"1\" class=\"dataframe\">\n",
       "  <thead>\n",
       "    <tr style=\"text-align: right;\">\n",
       "      <th></th>\n",
       "      <th>To</th>\n",
       "      <th>count</th>\n",
       "      <th>From</th>\n",
       "    </tr>\n",
       "  </thead>\n",
       "  <tbody>\n",
       "    <tr>\n",
       "      <th>0</th>\n",
       "      <td>Finalised</td>\n",
       "      <td>1484</td>\n",
       "      <td>All</td>\n",
       "    </tr>\n",
       "    <tr>\n",
       "      <th>1</th>\n",
       "      <td>Ongoing</td>\n",
       "      <td>816</td>\n",
       "      <td>All</td>\n",
       "    </tr>\n",
       "    <tr>\n",
       "      <th>2</th>\n",
       "      <td>Planned</td>\n",
       "      <td>400</td>\n",
       "      <td>All</td>\n",
       "    </tr>\n",
       "    <tr>\n",
       "      <th>3</th>\n",
       "      <td>Cancelled</td>\n",
       "      <td>60</td>\n",
       "      <td>All</td>\n",
       "    </tr>\n",
       "    <tr>\n",
       "      <th>0</th>\n",
       "      <td>Due Protocols</td>\n",
       "      <td>1484</td>\n",
       "      <td>Finalised</td>\n",
       "    </tr>\n",
       "    <tr>\n",
       "      <th>1</th>\n",
       "      <td>Due Protocols</td>\n",
       "      <td>816</td>\n",
       "      <td>Ongoing</td>\n",
       "    </tr>\n",
       "    <tr>\n",
       "      <th>0</th>\n",
       "      <td>Due Results</td>\n",
       "      <td>1482</td>\n",
       "      <td>Finalised</td>\n",
       "    </tr>\n",
       "    <tr>\n",
       "      <th>1</th>\n",
       "      <td>Not Due Results</td>\n",
       "      <td>2</td>\n",
       "      <td>Finalised</td>\n",
       "    </tr>\n",
       "    <tr>\n",
       "      <th>0</th>\n",
       "      <td>Has Protocols</td>\n",
       "      <td>1370</td>\n",
       "      <td>Due Protocols</td>\n",
       "    </tr>\n",
       "    <tr>\n",
       "      <th>1</th>\n",
       "      <td>No Protocols</td>\n",
       "      <td>930</td>\n",
       "      <td>Due Protocols</td>\n",
       "    </tr>\n",
       "    <tr>\n",
       "      <th>0</th>\n",
       "      <td>Has Results</td>\n",
       "      <td>1014</td>\n",
       "      <td>Due Results</td>\n",
       "    </tr>\n",
       "    <tr>\n",
       "      <th>1</th>\n",
       "      <td>No Results</td>\n",
       "      <td>468</td>\n",
       "      <td>Due Results</td>\n",
       "    </tr>\n",
       "  </tbody>\n",
       "</table>\n",
       "</div>"
      ],
      "text/plain": [
       "                To  count           From\n",
       "0        Finalised   1484            All\n",
       "1          Ongoing    816            All\n",
       "2          Planned    400            All\n",
       "3        Cancelled     60            All\n",
       "0    Due Protocols   1484      Finalised\n",
       "1    Due Protocols    816        Ongoing\n",
       "0      Due Results   1482      Finalised\n",
       "1  Not Due Results      2      Finalised\n",
       "0    Has Protocols   1370  Due Protocols\n",
       "1     No Protocols    930  Due Protocols\n",
       "0      Has Results   1014    Due Results\n",
       "1       No Results    468    Due Results"
      ]
     },
     "execution_count": 14,
     "metadata": {},
     "output_type": "execute_result"
    }
   ],
   "source": [
    "sankey_extended_df"
   ]
  },
  {
   "cell_type": "code",
   "execution_count": 15,
   "metadata": {},
   "outputs": [],
   "source": [
    "sankey_extended_df.to_csv('study_flow_sankey_extended.csv', index=False)"
   ]
  },
  {
   "cell_type": "code",
   "execution_count": null,
   "metadata": {},
   "outputs": [],
   "source": []
  }
 ],
 "metadata": {
  "kernelspec": {
   "display_name": "eupas",
   "language": "python",
   "name": "python3"
  },
  "language_info": {
   "codemirror_mode": {
    "name": "ipython",
    "version": 3
   },
   "file_extension": ".py",
   "mimetype": "text/x-python",
   "name": "python",
   "nbconvert_exporter": "python",
   "pygments_lexer": "ipython3",
   "version": "3.11.6"
  }
 },
 "nbformat": 4,
 "nbformat_minor": 2
}
